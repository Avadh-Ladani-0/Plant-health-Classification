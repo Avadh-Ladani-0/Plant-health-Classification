{
 "cells": [
  {
   "cell_type": "markdown",
   "metadata": {},
   "source": [
    "# making list of all imgs path"
   ]
  },
  {
   "cell_type": "code",
   "execution_count": 13,
   "metadata": {},
   "outputs": [
    {
     "data": {
      "text/plain": [
       "'RAW//imgs//jd5//h//20250306_171731.heic'"
      ]
     },
     "execution_count": 13,
     "metadata": {},
     "output_type": "execute_result"
    }
   ],
   "source": [
    "import pandas as pd\n",
    "import os\n",
    "\n",
    "# Define directories\n",
    "dirs = [\"RAW//imgs//ad1//u//\",\"RAW//imgs//ad1//h//\", \"RAW//imgs//ad2//u//\",\"RAW//imgs//ad2//h//\", \"RAW//imgs//jd3//u//\",\"RAW//imgs//jd3//h//\",\"RAW//imgs//jd4//h//\",\"RAW//imgs//jd4//u//\",\"RAW//imgs//jd5//u//\",\"RAW//imgs//jd5//h//\"]\n",
    "\n",
    "# Supported image extensions\n",
    "image_extensions = ('.png', '.jpg', '.jpeg', '.gif', '.bmp', '.heic')\n",
    "\n",
    "# List to store all image paths\n",
    "all_image_paths = []\n",
    "\n",
    "# Iterate through directories\n",
    "for dir_path in dirs:\n",
    "    if os.path.exists(dir_path):  # Ensure the directory exists\n",
    "        # Get all image files in the current directory\n",
    "        images = [os.path.join(dir_path, f) for f in os.listdir(dir_path) \n",
    "                  if f.lower().endswith(image_extensions)]\n",
    "        # Append images to list\n",
    "        all_image_paths.extend(images)\n",
    "    else:\n",
    "        print(f\"Warning: Directory {dir_path} does not exist.\")\n",
    "\n",
    "# Print collected image paths\n",
    "all_image_paths[len(all_image_paths)-1]\n"
   ]
  },
  {
   "cell_type": "markdown",
   "metadata": {},
   "source": [
    "# Try : getting exif data (metadata) from images"
   ]
  },
  {
   "cell_type": "markdown",
   "metadata": {},
   "source": [
    "`for jpg`"
   ]
  },
  {
   "cell_type": "code",
   "execution_count": 14,
   "metadata": {},
   "outputs": [],
   "source": [
    "from PIL import Image\n",
    "\n",
    "image = Image.open(r\"RAW\\imgs\\ad2\\h\\IMG_20250303_092124.jpg\")\n",
    "\n",
    "exifdata = image.getexif()"
   ]
  },
  {
   "cell_type": "code",
   "execution_count": 15,
   "metadata": {},
   "outputs": [
    {
     "name": "stdout",
     "output_type": "stream",
     "text": [
      "ImageWidth               : 4000\n",
      "ImageLength              : 3000\n",
      "GPSInfo                  : 5268\n",
      "ResolutionUnit           : 2\n",
      "ExifOffset               : 213\n",
      "Make                     : Xiaomi\n",
      "Model                    : POCO M2 Pro\n",
      "Orientation              : 6\n",
      "DateTime                 : 2025:03:03 09:21:24\n",
      "YCbCrPositioning         : 1\n",
      "XResolution              : 72.0\n",
      "YResolution              : 72.0\n"
     ]
    }
   ],
   "source": [
    "from PIL.ExifTags import TAGS\n",
    "\n",
    "for tagid in exifdata:\n",
    "\t\n",
    "\t# getting the tag name instead of tag id\n",
    "\ttagname = TAGS.get(tagid, tagid)\n",
    "\n",
    "\t# passing the tagid to get its respective value\n",
    "\tvalue = exifdata.get(tagid)\n",
    "\n",
    "\t# printing the final result\n",
    "\tprint(f\"{tagname:25}: {value}\")"
   ]
  },
  {
   "cell_type": "code",
   "execution_count": 16,
   "metadata": {},
   "outputs": [
    {
     "data": {
      "text/plain": [
       "{256: 4000,\n",
       " 257: 3000,\n",
       " 34853: 5268,\n",
       " 296: 2,\n",
       " 34665: 213,\n",
       " 271: 'Xiaomi',\n",
       " 272: 'POCO M2 Pro',\n",
       " 274: 6,\n",
       " 306: '2025:03:03 09:21:24',\n",
       " 531: 1,\n",
       " 282: 72.0,\n",
       " 283: 72.0}"
      ]
     },
     "execution_count": 16,
     "metadata": {},
     "output_type": "execute_result"
    }
   ],
   "source": [
    "exifdata=dict(exifdata)\n",
    "exifdata"
   ]
  },
  {
   "cell_type": "markdown",
   "metadata": {},
   "source": [
    "`for .heic imgs`"
   ]
  },
  {
   "cell_type": "code",
   "execution_count": 17,
   "metadata": {},
   "outputs": [
    {
     "data": {
      "text/plain": [
       "{256: 4080,\n",
       " 257: 1884,\n",
       " 296: 2,\n",
       " 34665: 230,\n",
       " 271: 'samsung',\n",
       " 272: 'Galaxy A15 5G',\n",
       " 305: 'A156EDXS5BYA1',\n",
       " 274: 1,\n",
       " 306: '2025:03:04 07:56:07',\n",
       " 531: 1,\n",
       " 282: 72.0,\n",
       " 283: 72.0}"
      ]
     },
     "execution_count": 17,
     "metadata": {},
     "output_type": "execute_result"
    }
   ],
   "source": [
    "from PIL import Image\n",
    "from pillow_heif import register_heif_opener\n",
    "\n",
    "register_heif_opener()\n",
    "\n",
    "image = Image.open(r\"RAW\\imgs\\jd3\\h\\20250304_075607.heic\")\n",
    "\n",
    "exifdata = image.getexif()\n",
    "\n",
    "exifdata=dict(exifdata)\n",
    "exifdata"
   ]
  },
  {
   "cell_type": "markdown",
   "metadata": {},
   "source": [
    "# getting date time"
   ]
  },
  {
   "cell_type": "code",
   "execution_count": 18,
   "metadata": {},
   "outputs": [
    {
     "name": "stdout",
     "output_type": "stream",
     "text": [
      "(6, '17:17')\n"
     ]
    }
   ],
   "source": [
    "from PIL import Image\n",
    "from pillow_heif import register_heif_opener\n",
    "from PIL.ExifTags import TAGS\n",
    "\n",
    "register_heif_opener()\n",
    "\n",
    "# # looping through all the tags present in exifdata\n",
    "# for tagid in exifdata:\n",
    "\t\n",
    "# \t# getting the tag name instead of tag id\n",
    "# \ttagname = TAGS.get(tagid, tagid)\n",
    "\n",
    "# \t# passing the tagid to get its respective value\n",
    "# \tvalue = exifdata.get(tagid)\n",
    "\n",
    "# \t# printing the final result\n",
    "# \tprint(f\"{tagname:25}: {value}\")\n",
    "def date_time(image_path):\n",
    "\n",
    "    image = Image.open(image_path)\n",
    "    # extracting the exif metadata\n",
    "    exifdata = image.getexif()\n",
    "\n",
    "    map=dict(exifdata)\n",
    "    lis=map[306].split()\n",
    "\n",
    "    lis1=lis[0].split(':')\n",
    "    date=int(lis1[2])\n",
    "\n",
    "    time=lis[1][:5]\n",
    "\n",
    "    return date,time\n",
    "    \n",
    "print(date_time(all_image_paths[len(all_image_paths)-1]))"
   ]
  },
  {
   "cell_type": "markdown",
   "metadata": {},
   "source": [
    "# iterating through all of the imgs paths"
   ]
  },
  {
   "cell_type": "markdown",
   "metadata": {},
   "source": [
    "`getting date, time, image name, and folder name`"
   ]
  },
  {
   "cell_type": "code",
   "execution_count": 19,
   "metadata": {},
   "outputs": [],
   "source": [
    "image_name=[]\n",
    "folder=[]\n",
    "date=[]\n",
    "time=[]\n",
    "\n",
    "for i in all_image_paths:\n",
    "    d,t=date_time(i)\n",
    "    date.append(d)\n",
    "    time.append(t)\n",
    "    image_name.append(i[19:])\n",
    "    folder.append(i[11:17])"
   ]
  },
  {
   "cell_type": "markdown",
   "metadata": {},
   "source": [
    "# making a csv"
   ]
  },
  {
   "cell_type": "code",
   "execution_count": 20,
   "metadata": {},
   "outputs": [],
   "source": [
    "# Define headers for DataFrame\n",
    "header = [image_name, folder, date, time]\n",
    "df = pd.DataFrame(header)\n",
    "\n",
    "df.head()\n",
    "df=df.T\n",
    "\n",
    "df.columns=['image_name', 'folder','date','time']\n",
    "\n",
    "df.to_csv(\"img_data.csv\")"
   ]
  },
  {
   "cell_type": "markdown",
   "metadata": {},
   "source": []
  },
  {
   "cell_type": "code",
   "execution_count": 21,
   "metadata": {},
   "outputs": [
    {
     "data": {
      "application/vnd.microsoft.datawrangler.viewer.v0+json": {
       "columns": [
        {
         "name": "index",
         "rawType": "int64",
         "type": "integer"
        },
        {
         "name": "Unnamed: 0",
         "rawType": "int64",
         "type": "integer"
        },
        {
         "name": "image_name",
         "rawType": "object",
         "type": "string"
        },
        {
         "name": "folder",
         "rawType": "object",
         "type": "string"
        },
        {
         "name": "date",
         "rawType": "int64",
         "type": "integer"
        },
        {
         "name": "time",
         "rawType": "object",
         "type": "string"
        }
       ],
       "conversionMethod": "pd.DataFrame",
       "ref": "b5e6379b-7c37-44b1-b34a-77bb8460f66c",
       "rows": [
        [
         "0",
         "0",
         "IMG_20250301_114507.jpg",
         "ad1//u",
         "1",
         "11:45"
        ],
        [
         "1",
         "1",
         "IMG_20250301_115341.jpg",
         "ad1//u",
         "1",
         "11:53"
        ],
        [
         "2",
         "2",
         "IMG_20250301_115705.jpg",
         "ad1//u",
         "1",
         "11:57"
        ],
        [
         "3",
         "3",
         "IMG_20250301_120034.jpg",
         "ad1//u",
         "1",
         "12:00"
        ],
        [
         "4",
         "4",
         "IMG_20250301_121320.jpg",
         "ad1//u",
         "1",
         "12:13"
        ],
        [
         "5",
         "5",
         "IMG_20250301_121808.jpg",
         "ad1//u",
         "1",
         "12:18"
        ],
        [
         "6",
         "6",
         "IMG_20250301_121924.jpg",
         "ad1//u",
         "1",
         "12:19"
        ],
        [
         "7",
         "7",
         "IMG_20250301_122525.jpg",
         "ad1//u",
         "1",
         "12:25"
        ],
        [
         "8",
         "8",
         "IMG_20250301_142812.jpg",
         "ad1//u",
         "1",
         "14:28"
        ],
        [
         "9",
         "9",
         "IMG_20250301_114605.jpg",
         "ad1//h",
         "1",
         "11:46"
        ],
        [
         "10",
         "10",
         "IMG_20250301_115431.jpg",
         "ad1//h",
         "1",
         "11:54"
        ],
        [
         "11",
         "11",
         "IMG_20250301_115726.jpg",
         "ad1//h",
         "1",
         "11:57"
        ],
        [
         "12",
         "12",
         "IMG_20250301_120042.jpg",
         "ad1//h",
         "1",
         "12:00"
        ],
        [
         "13",
         "13",
         "IMG_20250301_121443.jpg",
         "ad1//h",
         "1",
         "12:14"
        ],
        [
         "14",
         "14",
         "IMG_20250301_122140.jpg",
         "ad1//h",
         "1",
         "12:21"
        ],
        [
         "15",
         "15",
         "IMG_20250301_122149.jpg",
         "ad1//h",
         "1",
         "12:21"
        ],
        [
         "16",
         "16",
         "IMG_20250301_123324.jpg",
         "ad1//h",
         "1",
         "12:33"
        ],
        [
         "17",
         "17",
         "IMG_20250301_142824.jpg",
         "ad1//h",
         "1",
         "14:28"
        ],
        [
         "18",
         "18",
         "IMG_20250303_091916.jpg",
         "ad2//u",
         "3",
         "09:18"
        ],
        [
         "19",
         "19",
         "IMG_20250303_092052.jpg",
         "ad2//u",
         "3",
         "09:20"
        ],
        [
         "20",
         "20",
         "IMG_20250303_092540.jpg",
         "ad2//u",
         "3",
         "09:25"
        ],
        [
         "21",
         "21",
         "IMG_20250303_094100.jpg",
         "ad2//u",
         "3",
         "09:41"
        ],
        [
         "22",
         "22",
         "IMG_20250303_094850.jpg",
         "ad2//u",
         "3",
         "09:48"
        ],
        [
         "23",
         "23",
         "IMG_20250303_095101.jpg",
         "ad2//u",
         "3",
         "09:51"
        ],
        [
         "24",
         "24",
         "IMG_20250303_091938.jpg",
         "ad2//h",
         "3",
         "09:19"
        ],
        [
         "25",
         "25",
         "IMG_20250303_092124.jpg",
         "ad2//h",
         "3",
         "09:21"
        ],
        [
         "26",
         "26",
         "IMG_20250303_092736.jpg",
         "ad2//h",
         "3",
         "09:27"
        ],
        [
         "27",
         "27",
         "IMG_20250303_094204.jpg",
         "ad2//h",
         "3",
         "09:42"
        ],
        [
         "28",
         "28",
         "IMG_20250303_095008.jpg",
         "ad2//h",
         "3",
         "09:50"
        ],
        [
         "29",
         "29",
         "IMG_20250303_095214.jpg",
         "ad2//h",
         "3",
         "09:52"
        ],
        [
         "30",
         "30",
         "20250304_075401.heic",
         "jd3//u",
         "4",
         "07:54"
        ],
        [
         "31",
         "31",
         "20250304_075418.heic",
         "jd3//u",
         "4",
         "07:54"
        ],
        [
         "32",
         "32",
         "20250304_080524.heic",
         "jd3//u",
         "4",
         "08:05"
        ],
        [
         "33",
         "33",
         "20250304_080907.heic",
         "jd3//u",
         "4",
         "08:09"
        ],
        [
         "34",
         "34",
         "20250304_080918.heic",
         "jd3//u",
         "4",
         "08:09"
        ],
        [
         "35",
         "35",
         "20250304_081303.heic",
         "jd3//u",
         "4",
         "08:13"
        ],
        [
         "36",
         "36",
         "20250304_081417.heic",
         "jd3//u",
         "4",
         "08:14"
        ],
        [
         "37",
         "37",
         "20250304_081722.heic",
         "jd3//u",
         "4",
         "08:17"
        ],
        [
         "38",
         "38",
         "20250304_183146.heic",
         "jd3//u",
         "4",
         "18:31"
        ],
        [
         "39",
         "39",
         "20250304_183442.heic",
         "jd3//u",
         "4",
         "18:34"
        ],
        [
         "40",
         "40",
         "20250304_183447.heic",
         "jd3//u",
         "4",
         "18:34"
        ],
        [
         "41",
         "41",
         "20250304_183504.heic",
         "jd3//u",
         "4",
         "18:35"
        ],
        [
         "42",
         "42",
         "20250304_075607.heic",
         "jd3//h",
         "4",
         "07:56"
        ],
        [
         "43",
         "43",
         "20250304_080534.heic",
         "jd3//h",
         "4",
         "08:05"
        ],
        [
         "44",
         "44",
         "20250304_081236.heic",
         "jd3//h",
         "4",
         "08:12"
        ],
        [
         "45",
         "45",
         "20250304_081401.heic",
         "jd3//h",
         "4",
         "08:14"
        ],
        [
         "46",
         "46",
         "20250304_183157.heic",
         "jd3//h",
         "4",
         "18:31"
        ],
        [
         "47",
         "47",
         "20250304_183718.heic",
         "jd3//h",
         "4",
         "18:37"
        ],
        [
         "48",
         "48",
         "20250304_183724.heic",
         "jd3//h",
         "4",
         "18:37"
        ],
        [
         "49",
         "49",
         "20250305_081707.heic",
         "jd4//h",
         "5",
         "08:17"
        ]
       ],
       "shape": {
        "columns": 5,
        "rows": 101
       }
      },
      "text/html": [
       "<div>\n",
       "<style scoped>\n",
       "    .dataframe tbody tr th:only-of-type {\n",
       "        vertical-align: middle;\n",
       "    }\n",
       "\n",
       "    .dataframe tbody tr th {\n",
       "        vertical-align: top;\n",
       "    }\n",
       "\n",
       "    .dataframe thead th {\n",
       "        text-align: right;\n",
       "    }\n",
       "</style>\n",
       "<table border=\"1\" class=\"dataframe\">\n",
       "  <thead>\n",
       "    <tr style=\"text-align: right;\">\n",
       "      <th></th>\n",
       "      <th>Unnamed: 0</th>\n",
       "      <th>image_name</th>\n",
       "      <th>folder</th>\n",
       "      <th>date</th>\n",
       "      <th>time</th>\n",
       "    </tr>\n",
       "  </thead>\n",
       "  <tbody>\n",
       "    <tr>\n",
       "      <th>0</th>\n",
       "      <td>0</td>\n",
       "      <td>IMG_20250301_114507.jpg</td>\n",
       "      <td>ad1//u</td>\n",
       "      <td>1</td>\n",
       "      <td>11:45</td>\n",
       "    </tr>\n",
       "    <tr>\n",
       "      <th>1</th>\n",
       "      <td>1</td>\n",
       "      <td>IMG_20250301_115341.jpg</td>\n",
       "      <td>ad1//u</td>\n",
       "      <td>1</td>\n",
       "      <td>11:53</td>\n",
       "    </tr>\n",
       "    <tr>\n",
       "      <th>2</th>\n",
       "      <td>2</td>\n",
       "      <td>IMG_20250301_115705.jpg</td>\n",
       "      <td>ad1//u</td>\n",
       "      <td>1</td>\n",
       "      <td>11:57</td>\n",
       "    </tr>\n",
       "    <tr>\n",
       "      <th>3</th>\n",
       "      <td>3</td>\n",
       "      <td>IMG_20250301_120034.jpg</td>\n",
       "      <td>ad1//u</td>\n",
       "      <td>1</td>\n",
       "      <td>12:00</td>\n",
       "    </tr>\n",
       "    <tr>\n",
       "      <th>4</th>\n",
       "      <td>4</td>\n",
       "      <td>IMG_20250301_121320.jpg</td>\n",
       "      <td>ad1//u</td>\n",
       "      <td>1</td>\n",
       "      <td>12:13</td>\n",
       "    </tr>\n",
       "    <tr>\n",
       "      <th>...</th>\n",
       "      <td>...</td>\n",
       "      <td>...</td>\n",
       "      <td>...</td>\n",
       "      <td>...</td>\n",
       "      <td>...</td>\n",
       "    </tr>\n",
       "    <tr>\n",
       "      <th>96</th>\n",
       "      <td>96</td>\n",
       "      <td>20250306_133326.heic</td>\n",
       "      <td>jd5//h</td>\n",
       "      <td>6</td>\n",
       "      <td>13:33</td>\n",
       "    </tr>\n",
       "    <tr>\n",
       "      <th>97</th>\n",
       "      <td>97</td>\n",
       "      <td>20250306_134037.heic</td>\n",
       "      <td>jd5//h</td>\n",
       "      <td>6</td>\n",
       "      <td>13:40</td>\n",
       "    </tr>\n",
       "    <tr>\n",
       "      <th>98</th>\n",
       "      <td>98</td>\n",
       "      <td>20250306_134243.heic</td>\n",
       "      <td>jd5//h</td>\n",
       "      <td>6</td>\n",
       "      <td>13:42</td>\n",
       "    </tr>\n",
       "    <tr>\n",
       "      <th>99</th>\n",
       "      <td>99</td>\n",
       "      <td>20250306_171351.heic</td>\n",
       "      <td>jd5//h</td>\n",
       "      <td>6</td>\n",
       "      <td>17:13</td>\n",
       "    </tr>\n",
       "    <tr>\n",
       "      <th>100</th>\n",
       "      <td>100</td>\n",
       "      <td>20250306_171731.heic</td>\n",
       "      <td>jd5//h</td>\n",
       "      <td>6</td>\n",
       "      <td>17:17</td>\n",
       "    </tr>\n",
       "  </tbody>\n",
       "</table>\n",
       "<p>101 rows × 5 columns</p>\n",
       "</div>"
      ],
      "text/plain": [
       "     Unnamed: 0               image_name  folder  date   time\n",
       "0             0  IMG_20250301_114507.jpg  ad1//u     1  11:45\n",
       "1             1  IMG_20250301_115341.jpg  ad1//u     1  11:53\n",
       "2             2  IMG_20250301_115705.jpg  ad1//u     1  11:57\n",
       "3             3  IMG_20250301_120034.jpg  ad1//u     1  12:00\n",
       "4             4  IMG_20250301_121320.jpg  ad1//u     1  12:13\n",
       "..          ...                      ...     ...   ...    ...\n",
       "96           96     20250306_133326.heic  jd5//h     6  13:33\n",
       "97           97     20250306_134037.heic  jd5//h     6  13:40\n",
       "98           98     20250306_134243.heic  jd5//h     6  13:42\n",
       "99           99     20250306_171351.heic  jd5//h     6  17:13\n",
       "100         100     20250306_171731.heic  jd5//h     6  17:17\n",
       "\n",
       "[101 rows x 5 columns]"
      ]
     },
     "execution_count": 21,
     "metadata": {},
     "output_type": "execute_result"
    }
   ],
   "source": [
    "df = pd.read_csv(\"img_data.csv\")\n",
    "df"
   ]
  },
  {
   "cell_type": "code",
   "execution_count": 28,
   "metadata": {},
   "outputs": [],
   "source": [
    "lis=df['folder'].tolist()\n",
    "day=[]\n",
    "cls=[]\n",
    "for i in range(len(lis)):\n",
    "    day.append(lis[i][1:3])\n",
    "    cls.append(lis[i][-1])\n",
    "    \n",
    "df['day']=day\n",
    "df['class']=cls"
   ]
  },
  {
   "cell_type": "code",
   "execution_count": 29,
   "metadata": {},
   "outputs": [
    {
     "data": {
      "application/vnd.microsoft.datawrangler.viewer.v0+json": {
       "columns": [
        {
         "name": "index",
         "rawType": "int64",
         "type": "integer"
        },
        {
         "name": "Unnamed: 0",
         "rawType": "int64",
         "type": "integer"
        },
        {
         "name": "image_name",
         "rawType": "object",
         "type": "string"
        },
        {
         "name": "folder",
         "rawType": "object",
         "type": "string"
        },
        {
         "name": "date",
         "rawType": "int64",
         "type": "integer"
        },
        {
         "name": "time",
         "rawType": "object",
         "type": "string"
        },
        {
         "name": "day",
         "rawType": "object",
         "type": "string"
        },
        {
         "name": "class",
         "rawType": "object",
         "type": "string"
        }
       ],
       "conversionMethod": "pd.DataFrame",
       "ref": "ca6db21d-606c-4bc7-bb81-6bec739d060f",
       "rows": [
        [
         "0",
         "0",
         "IMG_20250301_114507.jpg",
         "ad1//u",
         "1",
         "11:45",
         "d1",
         "u"
        ],
        [
         "1",
         "1",
         "IMG_20250301_115341.jpg",
         "ad1//u",
         "1",
         "11:53",
         "d1",
         "u"
        ],
        [
         "2",
         "2",
         "IMG_20250301_115705.jpg",
         "ad1//u",
         "1",
         "11:57",
         "d1",
         "u"
        ],
        [
         "3",
         "3",
         "IMG_20250301_120034.jpg",
         "ad1//u",
         "1",
         "12:00",
         "d1",
         "u"
        ],
        [
         "4",
         "4",
         "IMG_20250301_121320.jpg",
         "ad1//u",
         "1",
         "12:13",
         "d1",
         "u"
        ],
        [
         "5",
         "5",
         "IMG_20250301_121808.jpg",
         "ad1//u",
         "1",
         "12:18",
         "d1",
         "u"
        ],
        [
         "6",
         "6",
         "IMG_20250301_121924.jpg",
         "ad1//u",
         "1",
         "12:19",
         "d1",
         "u"
        ],
        [
         "7",
         "7",
         "IMG_20250301_122525.jpg",
         "ad1//u",
         "1",
         "12:25",
         "d1",
         "u"
        ],
        [
         "8",
         "8",
         "IMG_20250301_142812.jpg",
         "ad1//u",
         "1",
         "14:28",
         "d1",
         "u"
        ],
        [
         "9",
         "9",
         "IMG_20250301_114605.jpg",
         "ad1//h",
         "1",
         "11:46",
         "d1",
         "h"
        ],
        [
         "10",
         "10",
         "IMG_20250301_115431.jpg",
         "ad1//h",
         "1",
         "11:54",
         "d1",
         "h"
        ],
        [
         "11",
         "11",
         "IMG_20250301_115726.jpg",
         "ad1//h",
         "1",
         "11:57",
         "d1",
         "h"
        ],
        [
         "12",
         "12",
         "IMG_20250301_120042.jpg",
         "ad1//h",
         "1",
         "12:00",
         "d1",
         "h"
        ],
        [
         "13",
         "13",
         "IMG_20250301_121443.jpg",
         "ad1//h",
         "1",
         "12:14",
         "d1",
         "h"
        ],
        [
         "14",
         "14",
         "IMG_20250301_122140.jpg",
         "ad1//h",
         "1",
         "12:21",
         "d1",
         "h"
        ],
        [
         "15",
         "15",
         "IMG_20250301_122149.jpg",
         "ad1//h",
         "1",
         "12:21",
         "d1",
         "h"
        ],
        [
         "16",
         "16",
         "IMG_20250301_123324.jpg",
         "ad1//h",
         "1",
         "12:33",
         "d1",
         "h"
        ],
        [
         "17",
         "17",
         "IMG_20250301_142824.jpg",
         "ad1//h",
         "1",
         "14:28",
         "d1",
         "h"
        ],
        [
         "18",
         "18",
         "IMG_20250303_091916.jpg",
         "ad2//u",
         "3",
         "09:18",
         "d2",
         "u"
        ],
        [
         "19",
         "19",
         "IMG_20250303_092052.jpg",
         "ad2//u",
         "3",
         "09:20",
         "d2",
         "u"
        ],
        [
         "20",
         "20",
         "IMG_20250303_092540.jpg",
         "ad2//u",
         "3",
         "09:25",
         "d2",
         "u"
        ],
        [
         "21",
         "21",
         "IMG_20250303_094100.jpg",
         "ad2//u",
         "3",
         "09:41",
         "d2",
         "u"
        ],
        [
         "22",
         "22",
         "IMG_20250303_094850.jpg",
         "ad2//u",
         "3",
         "09:48",
         "d2",
         "u"
        ],
        [
         "23",
         "23",
         "IMG_20250303_095101.jpg",
         "ad2//u",
         "3",
         "09:51",
         "d2",
         "u"
        ],
        [
         "24",
         "24",
         "IMG_20250303_091938.jpg",
         "ad2//h",
         "3",
         "09:19",
         "d2",
         "h"
        ],
        [
         "25",
         "25",
         "IMG_20250303_092124.jpg",
         "ad2//h",
         "3",
         "09:21",
         "d2",
         "h"
        ],
        [
         "26",
         "26",
         "IMG_20250303_092736.jpg",
         "ad2//h",
         "3",
         "09:27",
         "d2",
         "h"
        ],
        [
         "27",
         "27",
         "IMG_20250303_094204.jpg",
         "ad2//h",
         "3",
         "09:42",
         "d2",
         "h"
        ],
        [
         "28",
         "28",
         "IMG_20250303_095008.jpg",
         "ad2//h",
         "3",
         "09:50",
         "d2",
         "h"
        ],
        [
         "29",
         "29",
         "IMG_20250303_095214.jpg",
         "ad2//h",
         "3",
         "09:52",
         "d2",
         "h"
        ],
        [
         "30",
         "30",
         "20250304_075401.heic",
         "jd3//u",
         "4",
         "07:54",
         "d3",
         "u"
        ],
        [
         "31",
         "31",
         "20250304_075418.heic",
         "jd3//u",
         "4",
         "07:54",
         "d3",
         "u"
        ],
        [
         "32",
         "32",
         "20250304_080524.heic",
         "jd3//u",
         "4",
         "08:05",
         "d3",
         "u"
        ],
        [
         "33",
         "33",
         "20250304_080907.heic",
         "jd3//u",
         "4",
         "08:09",
         "d3",
         "u"
        ],
        [
         "34",
         "34",
         "20250304_080918.heic",
         "jd3//u",
         "4",
         "08:09",
         "d3",
         "u"
        ],
        [
         "35",
         "35",
         "20250304_081303.heic",
         "jd3//u",
         "4",
         "08:13",
         "d3",
         "u"
        ],
        [
         "36",
         "36",
         "20250304_081417.heic",
         "jd3//u",
         "4",
         "08:14",
         "d3",
         "u"
        ],
        [
         "37",
         "37",
         "20250304_081722.heic",
         "jd3//u",
         "4",
         "08:17",
         "d3",
         "u"
        ],
        [
         "38",
         "38",
         "20250304_183146.heic",
         "jd3//u",
         "4",
         "18:31",
         "d3",
         "u"
        ],
        [
         "39",
         "39",
         "20250304_183442.heic",
         "jd3//u",
         "4",
         "18:34",
         "d3",
         "u"
        ],
        [
         "40",
         "40",
         "20250304_183447.heic",
         "jd3//u",
         "4",
         "18:34",
         "d3",
         "u"
        ],
        [
         "41",
         "41",
         "20250304_183504.heic",
         "jd3//u",
         "4",
         "18:35",
         "d3",
         "u"
        ],
        [
         "42",
         "42",
         "20250304_075607.heic",
         "jd3//h",
         "4",
         "07:56",
         "d3",
         "h"
        ],
        [
         "43",
         "43",
         "20250304_080534.heic",
         "jd3//h",
         "4",
         "08:05",
         "d3",
         "h"
        ],
        [
         "44",
         "44",
         "20250304_081236.heic",
         "jd3//h",
         "4",
         "08:12",
         "d3",
         "h"
        ],
        [
         "45",
         "45",
         "20250304_081401.heic",
         "jd3//h",
         "4",
         "08:14",
         "d3",
         "h"
        ],
        [
         "46",
         "46",
         "20250304_183157.heic",
         "jd3//h",
         "4",
         "18:31",
         "d3",
         "h"
        ],
        [
         "47",
         "47",
         "20250304_183718.heic",
         "jd3//h",
         "4",
         "18:37",
         "d3",
         "h"
        ],
        [
         "48",
         "48",
         "20250304_183724.heic",
         "jd3//h",
         "4",
         "18:37",
         "d3",
         "h"
        ],
        [
         "49",
         "49",
         "20250305_081707.heic",
         "jd4//h",
         "5",
         "08:17",
         "d4",
         "h"
        ]
       ],
       "shape": {
        "columns": 7,
        "rows": 101
       }
      },
      "text/html": [
       "<div>\n",
       "<style scoped>\n",
       "    .dataframe tbody tr th:only-of-type {\n",
       "        vertical-align: middle;\n",
       "    }\n",
       "\n",
       "    .dataframe tbody tr th {\n",
       "        vertical-align: top;\n",
       "    }\n",
       "\n",
       "    .dataframe thead th {\n",
       "        text-align: right;\n",
       "    }\n",
       "</style>\n",
       "<table border=\"1\" class=\"dataframe\">\n",
       "  <thead>\n",
       "    <tr style=\"text-align: right;\">\n",
       "      <th></th>\n",
       "      <th>Unnamed: 0</th>\n",
       "      <th>image_name</th>\n",
       "      <th>folder</th>\n",
       "      <th>date</th>\n",
       "      <th>time</th>\n",
       "      <th>day</th>\n",
       "      <th>class</th>\n",
       "    </tr>\n",
       "  </thead>\n",
       "  <tbody>\n",
       "    <tr>\n",
       "      <th>0</th>\n",
       "      <td>0</td>\n",
       "      <td>IMG_20250301_114507.jpg</td>\n",
       "      <td>ad1//u</td>\n",
       "      <td>1</td>\n",
       "      <td>11:45</td>\n",
       "      <td>d1</td>\n",
       "      <td>u</td>\n",
       "    </tr>\n",
       "    <tr>\n",
       "      <th>1</th>\n",
       "      <td>1</td>\n",
       "      <td>IMG_20250301_115341.jpg</td>\n",
       "      <td>ad1//u</td>\n",
       "      <td>1</td>\n",
       "      <td>11:53</td>\n",
       "      <td>d1</td>\n",
       "      <td>u</td>\n",
       "    </tr>\n",
       "    <tr>\n",
       "      <th>2</th>\n",
       "      <td>2</td>\n",
       "      <td>IMG_20250301_115705.jpg</td>\n",
       "      <td>ad1//u</td>\n",
       "      <td>1</td>\n",
       "      <td>11:57</td>\n",
       "      <td>d1</td>\n",
       "      <td>u</td>\n",
       "    </tr>\n",
       "    <tr>\n",
       "      <th>3</th>\n",
       "      <td>3</td>\n",
       "      <td>IMG_20250301_120034.jpg</td>\n",
       "      <td>ad1//u</td>\n",
       "      <td>1</td>\n",
       "      <td>12:00</td>\n",
       "      <td>d1</td>\n",
       "      <td>u</td>\n",
       "    </tr>\n",
       "    <tr>\n",
       "      <th>4</th>\n",
       "      <td>4</td>\n",
       "      <td>IMG_20250301_121320.jpg</td>\n",
       "      <td>ad1//u</td>\n",
       "      <td>1</td>\n",
       "      <td>12:13</td>\n",
       "      <td>d1</td>\n",
       "      <td>u</td>\n",
       "    </tr>\n",
       "    <tr>\n",
       "      <th>...</th>\n",
       "      <td>...</td>\n",
       "      <td>...</td>\n",
       "      <td>...</td>\n",
       "      <td>...</td>\n",
       "      <td>...</td>\n",
       "      <td>...</td>\n",
       "      <td>...</td>\n",
       "    </tr>\n",
       "    <tr>\n",
       "      <th>96</th>\n",
       "      <td>96</td>\n",
       "      <td>20250306_133326.heic</td>\n",
       "      <td>jd5//h</td>\n",
       "      <td>6</td>\n",
       "      <td>13:33</td>\n",
       "      <td>d5</td>\n",
       "      <td>h</td>\n",
       "    </tr>\n",
       "    <tr>\n",
       "      <th>97</th>\n",
       "      <td>97</td>\n",
       "      <td>20250306_134037.heic</td>\n",
       "      <td>jd5//h</td>\n",
       "      <td>6</td>\n",
       "      <td>13:40</td>\n",
       "      <td>d5</td>\n",
       "      <td>h</td>\n",
       "    </tr>\n",
       "    <tr>\n",
       "      <th>98</th>\n",
       "      <td>98</td>\n",
       "      <td>20250306_134243.heic</td>\n",
       "      <td>jd5//h</td>\n",
       "      <td>6</td>\n",
       "      <td>13:42</td>\n",
       "      <td>d5</td>\n",
       "      <td>h</td>\n",
       "    </tr>\n",
       "    <tr>\n",
       "      <th>99</th>\n",
       "      <td>99</td>\n",
       "      <td>20250306_171351.heic</td>\n",
       "      <td>jd5//h</td>\n",
       "      <td>6</td>\n",
       "      <td>17:13</td>\n",
       "      <td>d5</td>\n",
       "      <td>h</td>\n",
       "    </tr>\n",
       "    <tr>\n",
       "      <th>100</th>\n",
       "      <td>100</td>\n",
       "      <td>20250306_171731.heic</td>\n",
       "      <td>jd5//h</td>\n",
       "      <td>6</td>\n",
       "      <td>17:17</td>\n",
       "      <td>d5</td>\n",
       "      <td>h</td>\n",
       "    </tr>\n",
       "  </tbody>\n",
       "</table>\n",
       "<p>101 rows × 7 columns</p>\n",
       "</div>"
      ],
      "text/plain": [
       "     Unnamed: 0               image_name  folder  date   time day class\n",
       "0             0  IMG_20250301_114507.jpg  ad1//u     1  11:45  d1     u\n",
       "1             1  IMG_20250301_115341.jpg  ad1//u     1  11:53  d1     u\n",
       "2             2  IMG_20250301_115705.jpg  ad1//u     1  11:57  d1     u\n",
       "3             3  IMG_20250301_120034.jpg  ad1//u     1  12:00  d1     u\n",
       "4             4  IMG_20250301_121320.jpg  ad1//u     1  12:13  d1     u\n",
       "..          ...                      ...     ...   ...    ...  ..   ...\n",
       "96           96     20250306_133326.heic  jd5//h     6  13:33  d5     h\n",
       "97           97     20250306_134037.heic  jd5//h     6  13:40  d5     h\n",
       "98           98     20250306_134243.heic  jd5//h     6  13:42  d5     h\n",
       "99           99     20250306_171351.heic  jd5//h     6  17:13  d5     h\n",
       "100         100     20250306_171731.heic  jd5//h     6  17:17  d5     h\n",
       "\n",
       "[101 rows x 7 columns]"
      ]
     },
     "execution_count": 29,
     "metadata": {},
     "output_type": "execute_result"
    }
   ],
   "source": [
    "df"
   ]
  },
  {
   "cell_type": "code",
   "execution_count": 30,
   "metadata": {},
   "outputs": [],
   "source": [
    "df.to_csv(\"img_data.csv\")"
   ]
  },
  {
   "cell_type": "code",
   "execution_count": null,
   "metadata": {},
   "outputs": [],
   "source": []
  }
 ],
 "metadata": {
  "kernelspec": {
   "display_name": ".venv",
   "language": "python",
   "name": "python3"
  },
  "language_info": {
   "codemirror_mode": {
    "name": "ipython",
    "version": 3
   },
   "file_extension": ".py",
   "mimetype": "text/x-python",
   "name": "python",
   "nbconvert_exporter": "python",
   "pygments_lexer": "ipython3",
   "version": "3.12.4"
  }
 },
 "nbformat": 4,
 "nbformat_minor": 2
}
