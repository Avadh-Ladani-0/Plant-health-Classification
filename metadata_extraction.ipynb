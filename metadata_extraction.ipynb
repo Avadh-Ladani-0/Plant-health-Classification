{
 "cells": [
  {
   "cell_type": "markdown",
   "metadata": {},
   "source": [
    "# making list of all imgs path"
   ]
  },
  {
   "cell_type": "code",
   "execution_count": 1,
   "metadata": {},
   "outputs": [
    {
     "data": {
      "text/plain": [
       "'RAW//imgs//jd5//20250306_171731.heic'"
      ]
     },
     "execution_count": 1,
     "metadata": {},
     "output_type": "execute_result"
    }
   ],
   "source": [
    "import pandas as pd\n",
    "import os\n",
    "\n",
    "# Define directories\n",
    "dirs = [\"RAW//imgs//ad1//\", \"RAW//imgs//ad2//\", \"RAW//imgs//jd3//\",\"RAW//imgs//jd4//\",\"RAW//imgs//jd5//\"]\n",
    "\n",
    "# Supported image extensions\n",
    "image_extensions = ('.png', '.jpg', '.jpeg', '.gif', '.bmp', '.heic')\n",
    "\n",
    "# List to store all image paths\n",
    "all_image_paths = []\n",
    "\n",
    "# Iterate through directories\n",
    "for dir_path in dirs:\n",
    "    if os.path.exists(dir_path):  # Ensure the directory exists\n",
    "        # Get all image files in the current directory\n",
    "        images = [os.path.join(dir_path, f) for f in os.listdir(dir_path) \n",
    "                  if f.lower().endswith(image_extensions)]\n",
    "        # Append images to list\n",
    "        all_image_paths.extend(images)\n",
    "    else:\n",
    "        print(f\"Warning: Directory {dir_path} does not exist.\")\n",
    "\n",
    "# Print collected image paths\n",
    "all_image_paths[len(all_image_paths)-1]\n"
   ]
  },
  {
   "cell_type": "markdown",
   "metadata": {},
   "source": [
    "# Try : getting exif data (metadata) from images"
   ]
  },
  {
   "cell_type": "markdown",
   "metadata": {},
   "source": [
    "`for jpg`"
   ]
  },
  {
   "cell_type": "code",
   "execution_count": null,
   "metadata": {},
   "outputs": [],
   "source": [
    "from PIL import Image\n",
    "\n",
    "image = Image.open(r\"RAW\\imgs\\ad2\\IMG_20250303_092124.jpg\")\n",
    "\n",
    "exifdata = image.getexif()"
   ]
  },
  {
   "cell_type": "code",
   "execution_count": null,
   "metadata": {},
   "outputs": [
    {
     "name": "stdout",
     "output_type": "stream",
     "text": [
      "ImageWidth               : 4000\n",
      "ImageLength              : 3000\n",
      "GPSInfo                  : 5268\n",
      "ResolutionUnit           : 2\n",
      "ExifOffset               : 213\n",
      "Make                     : Xiaomi\n",
      "Model                    : POCO M2 Pro\n",
      "Orientation              : 6\n",
      "DateTime                 : 2025:03:03 09:21:24\n",
      "YCbCrPositioning         : 1\n",
      "XResolution              : 72.0\n",
      "YResolution              : 72.0\n"
     ]
    }
   ],
   "source": [
    "from PIL.ExifTags import TAGS\n",
    "\n",
    "for tagid in exifdata:\n",
    "\t\n",
    "\t# getting the tag name instead of tag id\n",
    "\ttagname = TAGS.get(tagid, tagid)\n",
    "\n",
    "\t# passing the tagid to get its respective value\n",
    "\tvalue = exifdata.get(tagid)\n",
    "\n",
    "\t# printing the final result\n",
    "\tprint(f\"{tagname:25}: {value}\")"
   ]
  },
  {
   "cell_type": "code",
   "execution_count": 5,
   "metadata": {},
   "outputs": [
    {
     "data": {
      "text/plain": [
       "{256: 4000,\n",
       " 257: 3000,\n",
       " 34853: 5268,\n",
       " 296: 2,\n",
       " 34665: 213,\n",
       " 271: 'Xiaomi',\n",
       " 272: 'POCO M2 Pro',\n",
       " 274: 6,\n",
       " 306: '2025:03:03 09:21:24',\n",
       " 531: 1,\n",
       " 282: 72.0,\n",
       " 283: 72.0}"
      ]
     },
     "execution_count": 5,
     "metadata": {},
     "output_type": "execute_result"
    }
   ],
   "source": [
    "exifdata=dict(exifdata)\n",
    "exifdata"
   ]
  },
  {
   "cell_type": "markdown",
   "metadata": {},
   "source": [
    "`for .heic imgs`"
   ]
  },
  {
   "cell_type": "code",
   "execution_count": 6,
   "metadata": {},
   "outputs": [
    {
     "data": {
      "text/plain": [
       "{256: 4080,\n",
       " 257: 1884,\n",
       " 296: 2,\n",
       " 34665: 230,\n",
       " 271: 'samsung',\n",
       " 272: 'Galaxy A15 5G',\n",
       " 305: 'A156EDXS5BYA1',\n",
       " 274: 1,\n",
       " 306: '2025:03:04 07:56:07',\n",
       " 531: 1,\n",
       " 282: 72.0,\n",
       " 283: 72.0}"
      ]
     },
     "execution_count": 6,
     "metadata": {},
     "output_type": "execute_result"
    }
   ],
   "source": [
    "from PIL import Image\n",
    "from pillow_heif import register_heif_opener\n",
    "\n",
    "register_heif_opener()\n",
    "\n",
    "image = Image.open(r\"RAW\\imgs\\jd3\\20250304_075607.heic\")\n",
    "\n",
    "exifdata = image.getexif()\n",
    "\n",
    "exifdata=dict(exifdata)\n",
    "exifdata"
   ]
  },
  {
   "cell_type": "markdown",
   "metadata": {},
   "source": [
    "# getting date time"
   ]
  },
  {
   "cell_type": "code",
   "execution_count": null,
   "metadata": {},
   "outputs": [
    {
     "name": "stdout",
     "output_type": "stream",
     "text": [
      "(6, '17:17')\n"
     ]
    }
   ],
   "source": [
    "from PIL import Image\n",
    "from pillow_heif import register_heif_opener\n",
    "from PIL.ExifTags import TAGS\n",
    "\n",
    "register_heif_opener()\n",
    "\n",
    "# # looping through all the tags present in exifdata\n",
    "# for tagid in exifdata:\n",
    "\t\n",
    "# \t# getting the tag name instead of tag id\n",
    "# \ttagname = TAGS.get(tagid, tagid)\n",
    "\n",
    "# \t# passing the tagid to get its respective value\n",
    "# \tvalue = exifdata.get(tagid)\n",
    "\n",
    "# \t# printing the final result\n",
    "# \tprint(f\"{tagname:25}: {value}\")\n",
    "def date_time(image_path):\n",
    "\n",
    "    image = Image.open(image_path)\n",
    "    # extracting the exif metadata\n",
    "    exifdata = image.getexif()\n",
    "\n",
    "    map=dict(exifdata)\n",
    "    lis=map[306].split()\n",
    "\n",
    "    lis1=lis[0].split(':')\n",
    "    date=int(lis1[2])\n",
    "\n",
    "    time=lis[1][:5]\n",
    "\n",
    "    return date,time\n",
    "    \n",
    "print(date_time(all_image_paths[len(all_image_paths)-1]))"
   ]
  },
  {
   "cell_type": "markdown",
   "metadata": {},
   "source": [
    "# iterating through all of the imgs paths"
   ]
  },
  {
   "cell_type": "markdown",
   "metadata": {},
   "source": [
    "`getting date, time, image name, and folder name`"
   ]
  },
  {
   "cell_type": "code",
   "execution_count": 14,
   "metadata": {},
   "outputs": [],
   "source": [
    "image_name=[]\n",
    "folder=[]\n",
    "date=[]\n",
    "time=[]\n",
    "\n",
    "for i in all_image_paths:\n",
    "    d,t=date_time(i)\n",
    "    date.append(d)\n",
    "    time.append(t)\n",
    "    image_name.append(i[16:])\n",
    "    folder.append(i[11:14])"
   ]
  },
  {
   "cell_type": "markdown",
   "metadata": {},
   "source": [
    "# making a csv"
   ]
  },
  {
   "cell_type": "code",
   "execution_count": null,
   "metadata": {},
   "outputs": [],
   "source": [
    "# Define headers for DataFrame\n",
    "header = [image_name, folder, date, time]\n",
    "df = pd.DataFrame(header)\n",
    "\n",
    "df.head()\n",
    "df=df.T\n",
    "\n",
    "df.columns=['image_name', 'folder','date','time']\n",
    "\n",
    "df.to_csv(\"img_data.csv\")\n"
   ]
  },
  {
   "cell_type": "markdown",
   "metadata": {},
   "source": []
  }
 ],
 "metadata": {
  "kernelspec": {
   "display_name": ".venv",
   "language": "python",
   "name": "python3"
  },
  "language_info": {
   "codemirror_mode": {
    "name": "ipython",
    "version": 3
   },
   "file_extension": ".py",
   "mimetype": "text/x-python",
   "name": "python",
   "nbconvert_exporter": "python",
   "pygments_lexer": "ipython3",
   "version": "3.12.4"
  }
 },
 "nbformat": 4,
 "nbformat_minor": 2
}
