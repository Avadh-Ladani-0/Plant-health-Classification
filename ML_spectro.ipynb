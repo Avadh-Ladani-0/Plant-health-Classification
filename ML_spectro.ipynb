{
 "cells": [
  {
   "cell_type": "code",
   "execution_count": 43,
   "id": "ee7d1b65",
   "metadata": {},
   "outputs": [],
   "source": [
    "# Cell 1: Imports\n",
    "import pandas as pd\n",
    "import numpy as np\n",
    "from sklearn.model_selection import StratifiedKFold, cross_val_score, train_test_split\n",
    "from sklearn.metrics import accuracy_score, classification_report, confusion_matrix, precision_score, recall_score, f1_score\n",
    "from sklearn.ensemble import RandomForestClassifier\n",
    "from sklearn.linear_model import LogisticRegression\n",
    "from sklearn.svm import SVC\n",
    "from sklearn.tree import DecisionTreeClassifier\n",
    "from sklearn.neighbors import KNeighborsClassifier\n",
    "from sklearn.preprocessing import LabelEncoder, StandardScaler\n",
    "from sklearn.decomposition import PCA\n",
    "from sklearn.feature_selection import VarianceThreshold\n",
    "import matplotlib.pyplot as plt\n",
    "import seaborn as sns\n"
   ]
  },
  {
   "cell_type": "code",
   "execution_count": 44,
   "id": "26f2c1eb",
   "metadata": {},
   "outputs": [
    {
     "data": {
      "text/plain": [
       "Index(['Unnamed: 0', 'Records', 'class_s', '410', '435', '460', '485', '510',\n",
       "       '535', '560', '585', '610', '645', '680', '705', '730', '760', '810',\n",
       "       '860', '900', '940', 'image_name', 'folder', 'class'],\n",
       "      dtype='object')"
      ]
     },
     "execution_count": 44,
     "metadata": {},
     "output_type": "execute_result"
    }
   ],
   "source": [
    "# Cell 2: Load and preview the dataset\n",
    "df = pd.read_csv(\"plant_spectro_image_processed.csv\")\n",
    "df.columns"
   ]
  },
  {
   "cell_type": "code",
   "execution_count": 45,
   "id": "151875af",
   "metadata": {},
   "outputs": [
    {
     "data": {
      "application/vnd.microsoft.datawrangler.viewer.v0+json": {
       "columns": [
        {
         "name": "index",
         "rawType": "int64",
         "type": "integer"
        },
        {
         "name": "410",
         "rawType": "float64",
         "type": "float"
        },
        {
         "name": "435",
         "rawType": "float64",
         "type": "float"
        },
        {
         "name": "460",
         "rawType": "float64",
         "type": "float"
        },
        {
         "name": "485",
         "rawType": "float64",
         "type": "float"
        },
        {
         "name": "510",
         "rawType": "float64",
         "type": "float"
        },
        {
         "name": "535",
         "rawType": "float64",
         "type": "float"
        },
        {
         "name": "560",
         "rawType": "float64",
         "type": "float"
        },
        {
         "name": "585",
         "rawType": "float64",
         "type": "float"
        },
        {
         "name": "610",
         "rawType": "float64",
         "type": "float"
        },
        {
         "name": "645",
         "rawType": "float64",
         "type": "float"
        },
        {
         "name": "680",
         "rawType": "float64",
         "type": "float"
        },
        {
         "name": "705",
         "rawType": "float64",
         "type": "float"
        },
        {
         "name": "730",
         "rawType": "float64",
         "type": "float"
        },
        {
         "name": "760",
         "rawType": "float64",
         "type": "float"
        },
        {
         "name": "810",
         "rawType": "float64",
         "type": "float"
        },
        {
         "name": "860",
         "rawType": "float64",
         "type": "float"
        },
        {
         "name": "900",
         "rawType": "float64",
         "type": "float"
        },
        {
         "name": "940",
         "rawType": "float64",
         "type": "float"
        },
        {
         "name": "class",
         "rawType": "object",
         "type": "string"
        }
       ],
       "conversionMethod": "pd.DataFrame",
       "ref": "4a28b752-3db6-4494-8b69-78c351c15ca7",
       "rows": [
        [
         "0",
         "417.32",
         "512.69",
         "857.61",
         "480.97",
         "510.68",
         "610.51",
         "323.84",
         "411.76",
         "679.5",
         "338.28",
         "701.74",
         "653.83",
         "1933.91",
         "2201.59",
         "2225.5",
         "2375.3",
         "1037.52",
         "687.4",
         "u"
        ],
        [
         "1",
         "89.24",
         "95.52",
         "144.93",
         "86.19",
         "102.45",
         "99.1",
         "71.09",
         "97.65",
         "113.25",
         "52.6",
         "131.76",
         "118.8",
         "394.77",
         "504.55",
         "667.05",
         "651.24",
         "239.76",
         "127.6",
         "u"
        ],
        [
         "2",
         "115.59",
         "137.43",
         "198.91",
         "115.84",
         "136.34",
         "140.71",
         "81.09",
         "111.25",
         "136.13",
         "59.87",
         "134.76",
         "118.38",
         "506.0",
         "633.33",
         "640.4",
         "720.02",
         "274.36",
         "167.4",
         "u"
        ],
        [
         "3",
         "1070.08",
         "1686.23",
         "2807.71",
         "768.26",
         "1004.01",
         "907.07",
         "909.91",
         "1505.08",
         "1134.78",
         "1469.85",
         "1739.88",
         "879.3",
         "4066.77",
         "4191.25",
         "4162.17",
         "4462.14",
         "1876.06",
         "1281.4",
         "u"
        ],
        [
         "4",
         "502.31",
         "498.07",
         "537.75",
         "618.13",
         "640.71",
         "479.64",
         "436.52",
         "582.91",
         "1205.7",
         "545.69",
         "469.16",
         "387.78",
         "1857.93",
         "1266.67",
         "2044.98",
         "1930.41",
         "486.32",
         "382.1",
         "u"
        ]
       ],
       "shape": {
        "columns": 19,
        "rows": 5
       }
      },
      "text/html": [
       "<div>\n",
       "<style scoped>\n",
       "    .dataframe tbody tr th:only-of-type {\n",
       "        vertical-align: middle;\n",
       "    }\n",
       "\n",
       "    .dataframe tbody tr th {\n",
       "        vertical-align: top;\n",
       "    }\n",
       "\n",
       "    .dataframe thead th {\n",
       "        text-align: right;\n",
       "    }\n",
       "</style>\n",
       "<table border=\"1\" class=\"dataframe\">\n",
       "  <thead>\n",
       "    <tr style=\"text-align: right;\">\n",
       "      <th></th>\n",
       "      <th>410</th>\n",
       "      <th>435</th>\n",
       "      <th>460</th>\n",
       "      <th>485</th>\n",
       "      <th>510</th>\n",
       "      <th>535</th>\n",
       "      <th>560</th>\n",
       "      <th>585</th>\n",
       "      <th>610</th>\n",
       "      <th>645</th>\n",
       "      <th>680</th>\n",
       "      <th>705</th>\n",
       "      <th>730</th>\n",
       "      <th>760</th>\n",
       "      <th>810</th>\n",
       "      <th>860</th>\n",
       "      <th>900</th>\n",
       "      <th>940</th>\n",
       "      <th>class</th>\n",
       "    </tr>\n",
       "  </thead>\n",
       "  <tbody>\n",
       "    <tr>\n",
       "      <th>0</th>\n",
       "      <td>417.32</td>\n",
       "      <td>512.69</td>\n",
       "      <td>857.61</td>\n",
       "      <td>480.97</td>\n",
       "      <td>510.68</td>\n",
       "      <td>610.51</td>\n",
       "      <td>323.84</td>\n",
       "      <td>411.76</td>\n",
       "      <td>679.50</td>\n",
       "      <td>338.28</td>\n",
       "      <td>701.74</td>\n",
       "      <td>653.83</td>\n",
       "      <td>1933.91</td>\n",
       "      <td>2201.59</td>\n",
       "      <td>2225.50</td>\n",
       "      <td>2375.30</td>\n",
       "      <td>1037.52</td>\n",
       "      <td>687.4</td>\n",
       "      <td>u</td>\n",
       "    </tr>\n",
       "    <tr>\n",
       "      <th>1</th>\n",
       "      <td>89.24</td>\n",
       "      <td>95.52</td>\n",
       "      <td>144.93</td>\n",
       "      <td>86.19</td>\n",
       "      <td>102.45</td>\n",
       "      <td>99.10</td>\n",
       "      <td>71.09</td>\n",
       "      <td>97.65</td>\n",
       "      <td>113.25</td>\n",
       "      <td>52.60</td>\n",
       "      <td>131.76</td>\n",
       "      <td>118.80</td>\n",
       "      <td>394.77</td>\n",
       "      <td>504.55</td>\n",
       "      <td>667.05</td>\n",
       "      <td>651.24</td>\n",
       "      <td>239.76</td>\n",
       "      <td>127.6</td>\n",
       "      <td>u</td>\n",
       "    </tr>\n",
       "    <tr>\n",
       "      <th>2</th>\n",
       "      <td>115.59</td>\n",
       "      <td>137.43</td>\n",
       "      <td>198.91</td>\n",
       "      <td>115.84</td>\n",
       "      <td>136.34</td>\n",
       "      <td>140.71</td>\n",
       "      <td>81.09</td>\n",
       "      <td>111.25</td>\n",
       "      <td>136.13</td>\n",
       "      <td>59.87</td>\n",
       "      <td>134.76</td>\n",
       "      <td>118.38</td>\n",
       "      <td>506.00</td>\n",
       "      <td>633.33</td>\n",
       "      <td>640.40</td>\n",
       "      <td>720.02</td>\n",
       "      <td>274.36</td>\n",
       "      <td>167.4</td>\n",
       "      <td>u</td>\n",
       "    </tr>\n",
       "    <tr>\n",
       "      <th>3</th>\n",
       "      <td>1070.08</td>\n",
       "      <td>1686.23</td>\n",
       "      <td>2807.71</td>\n",
       "      <td>768.26</td>\n",
       "      <td>1004.01</td>\n",
       "      <td>907.07</td>\n",
       "      <td>909.91</td>\n",
       "      <td>1505.08</td>\n",
       "      <td>1134.78</td>\n",
       "      <td>1469.85</td>\n",
       "      <td>1739.88</td>\n",
       "      <td>879.30</td>\n",
       "      <td>4066.77</td>\n",
       "      <td>4191.25</td>\n",
       "      <td>4162.17</td>\n",
       "      <td>4462.14</td>\n",
       "      <td>1876.06</td>\n",
       "      <td>1281.4</td>\n",
       "      <td>u</td>\n",
       "    </tr>\n",
       "    <tr>\n",
       "      <th>4</th>\n",
       "      <td>502.31</td>\n",
       "      <td>498.07</td>\n",
       "      <td>537.75</td>\n",
       "      <td>618.13</td>\n",
       "      <td>640.71</td>\n",
       "      <td>479.64</td>\n",
       "      <td>436.52</td>\n",
       "      <td>582.91</td>\n",
       "      <td>1205.70</td>\n",
       "      <td>545.69</td>\n",
       "      <td>469.16</td>\n",
       "      <td>387.78</td>\n",
       "      <td>1857.93</td>\n",
       "      <td>1266.67</td>\n",
       "      <td>2044.98</td>\n",
       "      <td>1930.41</td>\n",
       "      <td>486.32</td>\n",
       "      <td>382.1</td>\n",
       "      <td>u</td>\n",
       "    </tr>\n",
       "  </tbody>\n",
       "</table>\n",
       "</div>"
      ],
      "text/plain": [
       "       410      435      460     485      510     535     560      585  \\\n",
       "0   417.32   512.69   857.61  480.97   510.68  610.51  323.84   411.76   \n",
       "1    89.24    95.52   144.93   86.19   102.45   99.10   71.09    97.65   \n",
       "2   115.59   137.43   198.91  115.84   136.34  140.71   81.09   111.25   \n",
       "3  1070.08  1686.23  2807.71  768.26  1004.01  907.07  909.91  1505.08   \n",
       "4   502.31   498.07   537.75  618.13   640.71  479.64  436.52   582.91   \n",
       "\n",
       "       610      645      680     705      730      760      810      860  \\\n",
       "0   679.50   338.28   701.74  653.83  1933.91  2201.59  2225.50  2375.30   \n",
       "1   113.25    52.60   131.76  118.80   394.77   504.55   667.05   651.24   \n",
       "2   136.13    59.87   134.76  118.38   506.00   633.33   640.40   720.02   \n",
       "3  1134.78  1469.85  1739.88  879.30  4066.77  4191.25  4162.17  4462.14   \n",
       "4  1205.70   545.69   469.16  387.78  1857.93  1266.67  2044.98  1930.41   \n",
       "\n",
       "       900     940 class  \n",
       "0  1037.52   687.4     u  \n",
       "1   239.76   127.6     u  \n",
       "2   274.36   167.4     u  \n",
       "3  1876.06  1281.4     u  \n",
       "4   486.32   382.1     u  "
      ]
     },
     "execution_count": 45,
     "metadata": {},
     "output_type": "execute_result"
    }
   ],
   "source": [
    "# Keep only the 18-band spectrometer columns and the label\n",
    "spectro_cols = ['410', '435', '460', '485', '510',\n",
    "       '535', '560', '585', '610', '645', '680', '705', '730', '760', '810',\n",
    "       '860', '900', '940']  # Assuming band1, band2, ..., band18 naming\n",
    "df = df[spectro_cols + ['class']]  # Replace 'label' with actual column name if different\n",
    "df.head()"
   ]
  },
  {
   "cell_type": "code",
   "execution_count": 46,
   "id": "b319a76e",
   "metadata": {},
   "outputs": [],
   "source": [
    "# Cell 3: Encode labels (H=0, U=1)\n",
    "label_encoder = LabelEncoder()\n",
    "df['label_encoded'] = label_encoder.fit_transform(df['class'])  # H->0, U->1\n",
    "X = df[spectro_cols]\n",
    "y = df['label_encoded']\n"
   ]
  },
  {
   "cell_type": "code",
   "execution_count": 47,
   "id": "950f9df0",
   "metadata": {},
   "outputs": [],
   "source": [
    "# Cell 4: Split and scale data\n",
    "X_train, X_test, y_train, y_test = train_test_split(X, y, test_size=0.2, random_state=42, stratify=y)\n",
    "\n",
    "scaler = StandardScaler()\n",
    "X_train_scaled = scaler.fit_transform(X_train)\n",
    "X_test_scaled = scaler.transform(X_test)\n"
   ]
  },
  {
   "cell_type": "code",
   "execution_count": 48,
   "id": "b349a7e2",
   "metadata": {},
   "outputs": [],
   "source": [
    "# Cell 5: Define models\n",
    "models = {\n",
    "    'Logistic Regression': LogisticRegression(),\n",
    "    'Random Forest': RandomForestClassifier(n_estimators=20, random_state=42),\n",
    "    'SVM (RBF)': SVC(kernel='rbf'),\n",
    "    'Decision Tree': DecisionTreeClassifier(),\n",
    "    'KNN': KNeighborsClassifier()\n",
    "}\n"
   ]
  },
  {
   "cell_type": "code",
   "execution_count": 49,
   "id": "aaac0f93",
   "metadata": {},
   "outputs": [
    {
     "name": "stdout",
     "output_type": "stream",
     "text": [
      "--- Logistic Regression ---\n",
      "              precision    recall  f1-score   support\n",
      "\n",
      "           h       0.40      0.22      0.29         9\n",
      "           u       0.53      0.73      0.62        11\n",
      "\n",
      "    accuracy                           0.50        20\n",
      "   macro avg       0.47      0.47      0.45        20\n",
      "weighted avg       0.47      0.50      0.47        20\n",
      "\n",
      "--- Random Forest ---\n",
      "              precision    recall  f1-score   support\n",
      "\n",
      "           h       0.55      0.67      0.60         9\n",
      "           u       0.67      0.55      0.60        11\n",
      "\n",
      "    accuracy                           0.60        20\n",
      "   macro avg       0.61      0.61      0.60        20\n",
      "weighted avg       0.61      0.60      0.60        20\n",
      "\n",
      "--- SVM (RBF) ---\n",
      "              precision    recall  f1-score   support\n",
      "\n",
      "           h       0.33      0.11      0.17         9\n",
      "           u       0.53      0.82      0.64        11\n",
      "\n",
      "    accuracy                           0.50        20\n",
      "   macro avg       0.43      0.46      0.40        20\n",
      "weighted avg       0.44      0.50      0.43        20\n",
      "\n",
      "--- Decision Tree ---\n",
      "              precision    recall  f1-score   support\n",
      "\n",
      "           h       0.86      0.67      0.75         9\n",
      "           u       0.77      0.91      0.83        11\n",
      "\n",
      "    accuracy                           0.80        20\n",
      "   macro avg       0.81      0.79      0.79        20\n",
      "weighted avg       0.81      0.80      0.80        20\n",
      "\n",
      "--- KNN ---\n",
      "              precision    recall  f1-score   support\n",
      "\n",
      "           h       0.36      0.44      0.40         9\n",
      "           u       0.44      0.36      0.40        11\n",
      "\n",
      "    accuracy                           0.40        20\n",
      "   macro avg       0.40      0.40      0.40        20\n",
      "weighted avg       0.41      0.40      0.40        20\n",
      "\n"
     ]
    }
   ],
   "source": [
    "# Cell 6: Train and evaluate models\n",
    "results = []\n",
    "\n",
    "for name, model in models.items():\n",
    "    model.fit(X_train_scaled, y_train)\n",
    "    y_pred = model.predict(X_test_scaled)\n",
    "    \n",
    "    acc = accuracy_score(y_test, y_pred)\n",
    "    prec = precision_score(y_test, y_pred)\n",
    "    rec = recall_score(y_test, y_pred)\n",
    "    f1 = f1_score(y_test, y_pred)\n",
    "\n",
    "    results.append({\n",
    "        'Model': name,\n",
    "        'Accuracy': acc,\n",
    "        'Precision': prec,\n",
    "        'Recall': rec,\n",
    "        'F1 Score': f1\n",
    "    })\n",
    "\n",
    "    print(f\"--- {name} ---\")\n",
    "    print(classification_report(y_test, y_pred, target_names=label_encoder.classes_))\n"
   ]
  },
  {
   "cell_type": "code",
   "execution_count": null,
   "id": "a0be763f",
   "metadata": {},
   "outputs": [
    {
     "data": {
      "image/png": "[encoded data removed]",
      "text/plain": [
       "<Figure size 1000x600 with 1 Axes>"
      ]
     },
     "metadata": {},
     "output_type": "display_data"
    },
    {
     "data": {
      "application/vnd.microsoft.datawrangler.viewer.v0+json": {
       "columns": [
        {
         "name": "index",
         "rawType": "int64",
         "type": "integer"
        },
        {
         "name": "Model",
         "rawType": "object",
         "type": "string"
        },
        {
         "name": "Accuracy",
         "rawType": "float64",
         "type": "float"
        },
        {
         "name": "Precision",
         "rawType": "float64",
         "type": "float"
        },
        {
         "name": "Recall",
         "rawType": "float64",
         "type": "float"
        },
        {
         "name": "F1 Score",
         "rawType": "float64",
         "type": "float"
        }
       ],
       "conversionMethod": "pd.DataFrame",
       "ref": "01c38ab1-9a0f-47f2-be35-9f65fa222290",
       "rows": [
        [
         "3",
         "Decision Tree",
         "0.8",
         "0.7692307692307693",
         "0.9090909090909091",
         "0.8333333333333334"
        ],
        [
         "2",
         "SVM (RBF)",
         "0.5",
         "0.5294117647058824",
         "0.8181818181818182",
         "0.6428571428571429"
        ],
        [
         "0",
         "Logistic Regression",
         "0.5",
         "0.5333333333333333",
         "0.7272727272727273",
         "0.6153846153846154"
        ],
        [
         "1",
         "Random Forest",
         "0.6",
         "0.6666666666666666",
         "0.5454545454545454",
         "0.6"
        ],
        [
         "4",
         "KNN",
         "0.4",
         "0.4444444444444444",
         "0.36363636363636365",
         "0.4"
        ]
       ],
       "shape": {
        "columns": 5,
        "rows": 5
       }
      },
      "text/html": [
       "<div>\n",
       "<style scoped>\n",
       "    .dataframe tbody tr th:only-of-type {\n",
       "        vertical-align: middle;\n",
       "    }\n",
       "\n",
       "    .dataframe tbody tr th {\n",
       "        vertical-align: top;\n",
       "    }\n",
       "\n",
       "    .dataframe thead th {\n",
       "        text-align: right;\n",
       "    }\n",
       "</style>\n",
       "<table border=\"1\" class=\"dataframe\">\n",
       "  <thead>\n",
       "    <tr style=\"text-align: right;\">\n",
       "      <th></th>\n",
       "      <th>Model</th>\n",
       "      <th>Accuracy</th>\n",
       "      <th>Precision</th>\n",
       "      <th>Recall</th>\n",
       "      <th>F1 Score</th>\n",
       "    </tr>\n",
       "  </thead>\n",
       "  <tbody>\n",
       "    <tr>\n",
       "      <th>3</th>\n",
       "      <td>Decision Tree</td>\n",
       "      <td>0.8</td>\n",
       "      <td>0.769231</td>\n",
       "      <td>0.909091</td>\n",
       "      <td>0.833333</td>\n",
       "    </tr>\n",
       "    <tr>\n",
       "      <th>2</th>\n",
       "      <td>SVM (RBF)</td>\n",
       "      <td>0.5</td>\n",
       "      <td>0.529412</td>\n",
       "      <td>0.818182</td>\n",
       "      <td>0.642857</td>\n",
       "    </tr>\n",
       "    <tr>\n",
       "      <th>0</th>\n",
       "      <td>Logistic Regression</td>\n",
       "      <td>0.5</td>\n",
       "      <td>0.533333</td>\n",
       "      <td>0.727273</td>\n",
       "      <td>0.615385</td>\n",
       "    </tr>\n",
       "    <tr>\n",
       "      <th>1</th>\n",
       "      <td>Random Forest</td>\n",
       "      <td>0.6</td>\n",
       "      <td>0.666667</td>\n",
       "      <td>0.545455</td>\n",
       "      <td>0.600000</td>\n",
       "    </tr>\n",
       "    <tr>\n",
       "      <th>4</th>\n",
       "      <td>KNN</td>\n",
       "      <td>0.4</td>\n",
       "      <td>0.444444</td>\n",
       "      <td>0.363636</td>\n",
       "      <td>0.400000</td>\n",
       "    </tr>\n",
       "  </tbody>\n",
       "</table>\n",
       "</div>"
      ],
      "text/plain": [
       "                 Model  Accuracy  Precision    Recall  F1 Score\n",
       "3        Decision Tree       0.8   0.769231  0.909091  0.833333\n",
       "2            SVM (RBF)       0.5   0.529412  0.818182  0.642857\n",
       "0  Logistic Regression       0.5   0.533333  0.727273  0.615385\n",
       "1        Random Forest       0.6   0.666667  0.545455  0.600000\n",
       "4                  KNN       0.4   0.444444  0.363636  0.400000"
      ]
     },
     "execution_count": 50,
     "metadata": {},
     "output_type": "execute_result"
    }
   ],
   "source": [
    "# Cell 7: Compare results\n",
    "results_df = pd.DataFrame(results)\n",
    "results_df = results_df.sort_values(by=\"F1 Score\", ascending=False)\n",
    "\n",
    "import seaborn as sns\n",
    "import matplotlib.pyplot as plt\n",
    "\n",
    "sns.set(style=\"whitegrid\")\n",
    "plt.figure(figsize=(10, 6))\n",
    "sns.barplot(data=results_df.melt(id_vars=\"Model\"), x=\"Model\", y=\"value\", hue=\"variable\")\n",
    "plt.title(\"Model Comparison on Spectrometer Data\")\n",
    "plt.ylabel(\"Score\")\n",
    "plt.xticks(rotation=45)\n",
    "plt.legend(title=\"Metric\")\n",
    "plt.tight_layout()\n",
    "plt.show()  \n",
    "\n",
    "results_df\n"
   ]
  },
  {
   "cell_type": "markdown",
   "id": "f708d942",
   "metadata": {},
   "source": [
    "-- Decision Tree ---\n",
    "              precision    recall  f1-score   support\n",
    "\n",
    "           h       0.86      0.67      0.75         9\n",
    "           u       0.77      0.91      0.83        11\n",
    "          ma       0.81      0.79      0.79        20\n",
    "          wa       0.81      0.80      0.80        20"
   ]
  },
  {
   "cell_type": "markdown",
   "id": "46151069",
   "metadata": {},
   "source": [
    "    accuracy                           0.80        20\n"
   ]
  },
  {
   "cell_type": "code",
   "execution_count": 53,
   "id": "3a436a20",
   "metadata": {},
   "outputs": [
    {
     "data": {
      "image/png": "[encoded data removed]",
      "text/plain": [
       "<Figure size 800x600 with 1 Axes>"
      ]
     },
     "metadata": {},
     "output_type": "display_data"
    },
    {
     "name": "stdout",
     "output_type": "stream",
     "text": [
      "Saved Decision Tree ROC curve and predictions to 'decision_tree_predictions.csv'\n"
     ]
    }
   ],
   "source": [
    "from sklearn.metrics import roc_curve, auc, RocCurveDisplay\n",
    "\n",
    "# Get the decision tree model\n",
    "dt_model = models['Decision Tree']\n",
    "\n",
    "# Get predicted labels and probabilities\n",
    "y_pred_dt = dt_model.predict(X_test_scaled)\n",
    "y_proba_dt = dt_model.predict_proba(X_test_scaled)[:, 1]  # Probability for class 1 (U)\n",
    "\n",
    "# ROC Curve\n",
    "fpr, tpr, _ = roc_curve(y_test, y_proba_dt)\n",
    "roc_auc = auc(fpr, tpr)\n",
    "\n",
    "plt.figure(figsize=(8, 6))\n",
    "plt.plot(fpr, tpr, lw=2, label=f'Decision Tree (AUC = {roc_auc:.2f})')\n",
    "plt.plot([0, 1], [0, 1], linestyle='--', color='gray')\n",
    "plt.xlabel('False Positive Rate')\n",
    "plt.ylabel('True Positive Rate')\n",
    "plt.title('ROC Curve - Decision Tree')\n",
    "plt.legend(loc=\"lower right\")\n",
    "plt.grid()\n",
    "plt.tight_layout()\n",
    "plt.show()\n",
    "\n",
    "# Save true vs predicted labels to CSV\n",
    "preds_dt_df = pd.DataFrame({\n",
    "    'True Label': label_encoder.inverse_transform(y_test),\n",
    "    'Predicted Label': label_encoder.inverse_transform(y_pred_dt)\n",
    "})\n",
    "preds_dt_df.to_csv(\"decision_tree_predictions.csv\", index=False)\n",
    "\n",
    "print(\"Saved Decision Tree ROC curve and predictions to 'decision_tree_predictions.csv'\")\n"
   ]
  },
  {
   "cell_type": "markdown",
   "id": "16f38651",
   "metadata": {},
   "source": []
  }
 ],
 "metadata": {
  "kernelspec": {
   "display_name": ".venv",
   "language": "python",
   "name": "python3"
  },
  "language_info": {
   "codemirror_mode": {
    "name": "ipython",
    "version": 3
   },
   "file_extension": ".py",
   "mimetype": "text/x-python",
   "name": "python",
   "nbconvert_exporter": "python",
   "pygments_lexer": "ipython3",
   "version": "3.12.4"
  }
 },
 "nbformat": 4,
 "nbformat_minor": 5
}
