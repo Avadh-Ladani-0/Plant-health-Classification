{
 "cells": [
  {
   "cell_type": "code",
   "execution_count": 25,
   "metadata": {},
   "outputs": [],
   "source": [
    "import pandas as pd\n",
    "\n",
    "img_df = pd.read_csv(\"img_data.csv\")\n",
    "\n",
    "spectro_df = pd.read_csv(\"spectro_18.csv\")"
   ]
  },
  {
   "cell_type": "code",
   "execution_count": 26,
   "metadata": {},
   "outputs": [],
   "source": [
    "lis=lis=spectro_df['Records'].tolist()\n",
    "\n",
    "temp=[]\n",
    "for i in range(len(lis)):\n",
    "    if 'u2' in lis[i]:\n",
    "        lis[i]=lis[i][:1]+'d'+lis[i][1:]\n",
    "    if 'h2' in lis[i]:\n",
    "        lis[i]=lis[i][:1]+'d'+lis[i][1:]\n",
    "\n",
    "spectro_df['Records']=lis"
   ]
  },
  {
   "cell_type": "code",
   "execution_count": 27,
   "metadata": {},
   "outputs": [],
   "source": [
    "lis=lis=spectro_df['Records'].tolist()\n",
    "\n",
    "for i in range(len(lis)):\n",
    "    lis[i]=lis[i].lower()\n",
    "    \n",
    "spectro_df['Records']=lis"
   ]
  },
  {
   "cell_type": "code",
   "execution_count": 28,
   "metadata": {},
   "outputs": [
    {
     "data": {
      "text/plain": [
       "[]"
      ]
     },
     "execution_count": 28,
     "metadata": {},
     "output_type": "execute_result"
    }
   ],
   "source": [
    "lis=spectro_df['Records'].tolist()\n",
    "temp2=[]\n",
    "for i in lis:\n",
    "    if 'u2' in i:\n",
    "        temp2.append(i)\n",
    "for i in lis:\n",
    "    if 'h2' in i:\n",
    "        temp2.append(i)\n",
    "temp2"
   ]
  },
  {
   "cell_type": "code",
   "execution_count": 29,
   "metadata": {},
   "outputs": [],
   "source": [
    "for i in range(len(lis)):\n",
    "    if lis[i].startswith('uh'):\n",
    "        print(i,lis[i])"
   ]
  },
  {
   "cell_type": "code",
   "execution_count": 30,
   "metadata": {},
   "outputs": [],
   "source": [
    "lis[14]='ud1_11:43'\n",
    "lis[87]='hd1_11:45'\n",
    "\n",
    "spectro_df['Records']=lis"
   ]
  },
  {
   "cell_type": "code",
   "execution_count": 31,
   "metadata": {},
   "outputs": [],
   "source": [
    "lis=spectro_df['Records'].tolist()\n",
    "\n",
    "for i in range(len(lis)):\n",
    "    if lis[i].endswith('p'):\n",
    "        print(lis[i])\n"
   ]
  },
  {
   "cell_type": "code",
   "execution_count": 32,
   "metadata": {},
   "outputs": [],
   "source": [
    "lis=spectro_df['Records'].tolist()\n",
    "\n",
    "for i in range(len(lis)):\n",
    "    if lis[i].startswith('ud4_1:') or lis[i].startswith('hd4_1:') or lis[i].startswith('ud4_5:') or lis[i].startswith('hd4_5:') :\n",
    "        lis[i]=lis[i][:2]+'5'+lis[i][3:]+'_p'\n",
    "        print(lis[i])\n",
    "        \n",
    "spectro_df['Records']=lis"
   ]
  },
  {
   "cell_type": "code",
   "execution_count": 33,
   "metadata": {},
   "outputs": [],
   "source": [
    "lis=spectro_df['Records'].tolist()\n",
    "\n",
    "for i in range(len(lis)):\n",
    "    if (lis[i].startswith('ud3_') or lis[i].startswith('hd3_')) and lis[i].endswith('p') :\n",
    "        lis[i]=lis[i][:-1]\n",
    "        lis[i]=lis[i]+'_p'\n",
    "        print(lis[i])\n",
    "        \n",
    "spectro_df['Records']=lis"
   ]
  },
  {
   "cell_type": "code",
   "execution_count": 34,
   "metadata": {},
   "outputs": [],
   "source": [
    "lis=spectro_df['Records'].tolist()\n",
    "\n",
    "for i in range(len(lis)):\n",
    "    if lis[i].endswith('p'):\n",
    "        lis[i]=lis[i][:4]+str(int(lis[i][4])+12)+lis[i][5:]\n",
    "        lis[i]=lis[i][:-2]\n",
    "        print(lis[i])\n",
    "\n",
    "spectro_df['Records']=lis"
   ]
  },
  {
   "cell_type": "code",
   "execution_count": 35,
   "metadata": {},
   "outputs": [
    {
     "data": {
      "text/plain": [
       "0"
      ]
     },
     "execution_count": 35,
     "metadata": {},
     "output_type": "execute_result"
    }
   ],
   "source": [
    "lis=spectro_df['Records'].tolist()\n",
    "temp=[]\n",
    "for i in range(len(lis)):\n",
    "    if len(lis[i])==6 or len(lis[i])==7:\n",
    "        print(lis[i])\n",
    "        temp.append(lis[i])\n",
    "        \n",
    "len(temp)"
   ]
  },
  {
   "cell_type": "code",
   "execution_count": 36,
   "metadata": {},
   "outputs": [],
   "source": [
    "lis=spectro_df['Records'].tolist()\n",
    "temp3=[]\n",
    "\n",
    "for i in range(len(lis)):\n",
    "    if  len(lis[i])==6 or len(lis[i])==7 :\n",
    "        lis[i]=lis[i][:1]+'d1_'+lis[i][1:]\n",
    "        temp3.append(lis[i])\n",
    "\n",
    "spectro_df['Records']=lis"
   ]
  },
  {
   "cell_type": "code",
   "execution_count": 37,
   "metadata": {},
   "outputs": [
    {
     "data": {
      "text/plain": [
       "['08:16',\n",
       " '08:16',\n",
       " '08:161',\n",
       " '08:161',\n",
       " '08:19',\n",
       " '08:19',\n",
       " '08:25',\n",
       " '08:25',\n",
       " '08:26',\n",
       " '08:26',\n",
       " '08:261',\n",
       " '08:261',\n",
       " '08:29',\n",
       " '08:29',\n",
       " '08:30',\n",
       " '08:30',\n",
       " '08:35',\n",
       " '08:37',\n",
       " '08:40',\n",
       " '08:40',\n",
       " '08:45',\n",
       " '08:45',\n",
       " '08:46',\n",
       " '08:46',\n",
       " '08:53',\n",
       " '08:54',\n",
       " '08:541',\n",
       " '09:08',\n",
       " '09:08',\n",
       " '09:10',\n",
       " '09:10',\n",
       " '09:101',\n",
       " '09:17',\n",
       " '09:17',\n",
       " '09:49',\n",
       " '09:50',\n",
       " '10:03',\n",
       " '10:04',\n",
       " '10:04']"
      ]
     },
     "execution_count": 37,
     "metadata": {},
     "output_type": "execute_result"
    }
   ],
   "source": [
    "lis=spectro_df['Records'].tolist()\n",
    "temp1=[]\n",
    "for i in range(len(lis)):   \n",
    "    if 'd4' in lis[i]:\n",
    "        x= lis[i].split('_') \n",
    "        temp1.append(x[1])  \n",
    "temp1.sort()   \n",
    "temp1 "
   ]
  },
  {
   "cell_type": "code",
   "execution_count": 38,
   "metadata": {},
   "outputs": [
    {
     "data": {
      "text/plain": [
       "[]"
      ]
     },
     "execution_count": 38,
     "metadata": {},
     "output_type": "execute_result"
    }
   ],
   "source": [
    "lis2=img_df[['folder','time']]\n",
    "\n",
    "tuple_list = [tuple(x) for x in lis2.values]\n",
    "temp=[]\n",
    "for i,j in tuple_list:\n",
    "    if i=='jd4':\n",
    "       temp.append(j)\n",
    "temp.sort()\n",
    "temp "
   ]
  },
  {
   "cell_type": "code",
   "execution_count": 39,
   "metadata": {},
   "outputs": [],
   "source": [
    "dd =pd.DataFrame( [temp,temp1])\n",
    "dd = dd.T"
   ]
  },
  {
   "cell_type": "code",
   "execution_count": 40,
   "metadata": {},
   "outputs": [],
   "source": [
    "lis=spectro_df['Records'].tolist()\n",
    "tempx=[]\n",
    "for i in range(len(lis)):\n",
    "    if 'd1' in lis[i]:\n",
    "        tempx.append(lis[i])\n",
    "        \n",
    "tempx.sort()"
   ]
  },
  {
   "cell_type": "code",
   "execution_count": 41,
   "metadata": {},
   "outputs": [
    {
     "name": "stderr",
     "output_type": "stream",
     "text": [
      "<>:1: SyntaxWarning: invalid escape sequence '\\i'\n",
      "<>:1: SyntaxWarning: invalid escape sequence '\\i'\n",
      "C:\\Users\\avadh\\AppData\\Local\\Temp\\ipykernel_34668\\853971315.py:1: SyntaxWarning: invalid escape sequence '\\i'\n",
      "  temp_df=pd.read_csv('RAW\\imgs\\\\ad1\\\\rem2.csv')\n",
      "C:\\Users\\avadh\\AppData\\Local\\Temp\\ipykernel_34668\\853971315.py:3: FutureWarning: ChainedAssignmentError: behaviour will change in pandas 3.0!\n",
      "You are setting values through chained assignment. Currently this works in certain cases, but when using Copy-on-Write (which will become the default behaviour in pandas 3.0) this will never work to update the original DataFrame or Series, because the intermediate object on which we are setting values will behave as a copy.\n",
      "A typical example is when you are setting values in a column of a DataFrame, like:\n",
      "\n",
      "df[\"col\"][row_indexer] = value\n",
      "\n",
      "Use `df.loc[row_indexer, \"col\"] = values` instead, to perform the assignment in a single step and ensure this keeps updating the original `df`.\n",
      "\n",
      "See the caveats in the documentation: https://pandas.pydata.org/pandas-docs/stable/user_guide/indexing.html#returning-a-view-versus-a-copy\n",
      "\n",
      "  temp_df['Records'].iloc[0]='hd1_14:24'\n",
      "C:\\Users\\avadh\\AppData\\Local\\Temp\\ipykernel_34668\\853971315.py:3: SettingWithCopyWarning: \n",
      "A value is trying to be set on a copy of a slice from a DataFrame\n",
      "\n",
      "See the caveats in the documentation: https://pandas.pydata.org/pandas-docs/stable/user_guide/indexing.html#returning-a-view-versus-a-copy\n",
      "  temp_df['Records'].iloc[0]='hd1_14:24'\n",
      "C:\\Users\\avadh\\AppData\\Local\\Temp\\ipykernel_34668\\853971315.py:4: FutureWarning: ChainedAssignmentError: behaviour will change in pandas 3.0!\n",
      "You are setting values through chained assignment. Currently this works in certain cases, but when using Copy-on-Write (which will become the default behaviour in pandas 3.0) this will never work to update the original DataFrame or Series, because the intermediate object on which we are setting values will behave as a copy.\n",
      "A typical example is when you are setting values in a column of a DataFrame, like:\n",
      "\n",
      "df[\"col\"][row_indexer] = value\n",
      "\n",
      "Use `df.loc[row_indexer, \"col\"] = values` instead, to perform the assignment in a single step and ensure this keeps updating the original `df`.\n",
      "\n",
      "See the caveats in the documentation: https://pandas.pydata.org/pandas-docs/stable/user_guide/indexing.html#returning-a-view-versus-a-copy\n",
      "\n",
      "  temp_df['Records'].iloc[1]='ud1_14:24'\n",
      "C:\\Users\\avadh\\AppData\\Local\\Temp\\ipykernel_34668\\853971315.py:4: SettingWithCopyWarning: \n",
      "A value is trying to be set on a copy of a slice from a DataFrame\n",
      "\n",
      "See the caveats in the documentation: https://pandas.pydata.org/pandas-docs/stable/user_guide/indexing.html#returning-a-view-versus-a-copy\n",
      "  temp_df['Records'].iloc[1]='ud1_14:24'\n"
     ]
    }
   ],
   "source": [
    "temp_df=pd.read_csv('RAW\\imgs\\\\ad1\\\\rem2.csv')\n",
    "\n",
    "temp_df['Records'].iloc[0]='hd1_14:24'\n",
    "temp_df['Records'].iloc[1]='ud1_14:24'"
   ]
  },
  {
   "cell_type": "code",
   "execution_count": 42,
   "metadata": {},
   "outputs": [],
   "source": [
    "spectro_df=pd.concat([spectro_df,temp_df],ignore_index=True)"
   ]
  },
  {
   "cell_type": "code",
   "execution_count": 43,
   "metadata": {},
   "outputs": [],
   "source": [
    "lis=spectro_df['Records'].tolist()\n",
    "temp=[]\n",
    "for i in range(len(lis)):\n",
    "    if lis[i][5]==':':\n",
    "        lis[i]=lis[i][:4]+'0'+lis[i][4:]\n",
    "        temp.append(lis[i])\n",
    "\n",
    "spectro_df['Records']=lis"
   ]
  },
  {
   "cell_type": "code",
   "execution_count": 44,
   "metadata": {},
   "outputs": [],
   "source": [
    "lis=spectro_df['Records'].tolist()\n",
    "day=[]\n",
    "cls=[]\n",
    "time=[]\n",
    "\n",
    "for i in range(len(lis)):\n",
    "    cls.append(lis[i][0])\n",
    "    day.append(lis[i][1:3])\n",
    "    time.append(lis[i][4:])\n",
    "    \n",
    "for i in range(len(time)):\n",
    "    if len(time[i])==6:\n",
    "        time[i]=time[i][:5]+':0'+time[i][5:]\n",
    "    else:\n",
    "        time[i]=time[i][:5]+':00'\n",
    "    \n",
    "spectro_df['day_s']=day\n",
    "spectro_df['time_s']=time\n",
    "spectro_df['class_s']=cls"
   ]
  },
  {
   "cell_type": "code",
   "execution_count": 45,
   "metadata": {},
   "outputs": [
    {
     "data": {
      "text/plain": [
       "Index(['Unnamed: 0', 'Records', 'day_s', 'time_s', 'class_s', '410', '435',\n",
       "       '460', '485', '510', '535', '560', '585', '610', '645', '680', '705',\n",
       "       '730', '760', '810', '860', '900', '940'],\n",
       "      dtype='object')"
      ]
     },
     "execution_count": 45,
     "metadata": {},
     "output_type": "execute_result"
    }
   ],
   "source": [
    "spectro_df.columns"
   ]
  },
  {
   "cell_type": "code",
   "execution_count": 46,
   "metadata": {},
   "outputs": [],
   "source": [
    "spectro_df = spectro_df.loc[:, ['Records','day_s', 'time_s', 'class_s', '410', '435', '460', '485', '510', '535',\n",
    "       '560', '585', '610', '645', '680', '705', '730', '760', '810', '860',\n",
    "       '900', '940']]"
   ]
  },
  {
   "cell_type": "code",
   "execution_count": 47,
   "metadata": {},
   "outputs": [],
   "source": [
    "spectro_df.to_csv('spectro_18.csv')"
   ]
  },
  {
   "cell_type": "code",
   "execution_count": null,
   "metadata": {},
   "outputs": [],
   "source": []
  }
 ],
 "metadata": {
  "kernelspec": {
   "display_name": ".venv",
   "language": "python",
   "name": "python3"
  },
  "language_info": {
   "codemirror_mode": {
    "name": "ipython",
    "version": 3
   },
   "file_extension": ".py",
   "mimetype": "text/x-python",
   "name": "python",
   "nbconvert_exporter": "python",
   "pygments_lexer": "ipython3",
   "version": "3.12.4"
  }
 },
 "nbformat": 4,
 "nbformat_minor": 2
}
