{
 "cells": [
  {
   "cell_type": "code",
   "execution_count": 18,
   "id": "85a885af",
   "metadata": {},
   "outputs": [],
   "source": [
    "# Cell 1: Imports\n",
    "import pandas as pd\n",
    "import os\n",
    "from PIL import Image\n",
    "from pillow_heif import register_heif_opener\n",
    "import torch\n",
    "import torchvision.transforms as transforms\n",
    "from torch.utils.data import Dataset, DataLoader\n",
    "import torch.nn as nn\n",
    "import torch.optim as optim\n",
    "from sklearn.metrics import classification_report\n",
    "register_heif_opener()"
   ]
  },
  {
   "cell_type": "code",
   "execution_count": 19,
   "id": "661c9fb7",
   "metadata": {},
   "outputs": [
    {
     "data": {
      "text/plain": [
       "device(type='cuda')"
      ]
     },
     "execution_count": 19,
     "metadata": {},
     "output_type": "execute_result"
    }
   ],
   "source": [
    "torch.device(\"cuda\" if torch.cuda.is_available() else \"cpu\")"
   ]
  },
  {
   "cell_type": "code",
   "execution_count": 21,
   "id": "1829abe3",
   "metadata": {},
   "outputs": [],
   "source": [
    "# Cell 2: Dataset Class with corrected label and path handling\n",
    "import os\n",
    "\n",
    "class PlantImageDataset(Dataset):\n",
    "    def __init__(self, csv_file, transform=None):\n",
    "        self.data = pd.read_csv(csv_file)\n",
    "        self.transform = transform\n",
    "        self.label_map = {'h': 0, 'u': 1}\n",
    "\n",
    "        # Optional: Map label column just once here to avoid repeating every __getitem__\n",
    "        self.data = self.data[self.data['class'].isin(self.label_map)]\n",
    "        self.data['encoded_label'] = self.data['class'].map(self.label_map).astype(int)\n",
    "\n",
    "\n",
    "    def __len__(self):\n",
    "        return len(self.data)\n",
    "\n",
    "    def __getitem__(self, idx):\n",
    "        # Make sure to use os.path.join for cross-platform compatibility\n",
    "        path=\"RAW//imgs//\"\n",
    "        img_path = path+self.data.iloc[idx]['folder']+\"//\"+self.data.iloc[idx]['image_name']\n",
    "\n",
    "        # Read label\n",
    "        label = self.data.iloc[idx]['encoded_label']\n",
    "\n",
    "        # Open and transform image\n",
    "        image = Image.open(img_path).convert('RGB')\n",
    "        if self.transform:\n",
    "            image = self.transform(image)\n",
    "\n",
    "        return image, label"
   ]
  },
  {
   "cell_type": "code",
   "execution_count": 22,
   "id": "4f764f9b",
   "metadata": {},
   "outputs": [],
   "source": [
    "# Cell 3: Image transforms and data loaders\n",
    "transform = transforms.Compose([\n",
    "    transforms.Resize((224, 224)),\n",
    "    transforms.ToTensor(),\n",
    "    transforms.Normalize([0.5]*3, [0.5]*3)\n",
    "])\n",
    "\n",
    "dataset = PlantImageDataset(csv_file='aug_final_dataset.csv', transform=transform)\n",
    "\n",
    "# Split into train/test sets\n",
    "train_size = int(0.8 * len(dataset))\n",
    "test_size = len(dataset) - train_size\n",
    "train_ds, test_ds = torch.utils.data.random_split(dataset, [train_size, test_size])\n",
    "\n",
    "# DataLoaders\n",
    "train_loader = DataLoader(train_ds, batch_size=16, shuffle=True)\n",
    "test_loader = DataLoader(test_ds, batch_size=16, shuffle=False)"
   ]
  },
  {
   "cell_type": "code",
   "execution_count": 23,
   "id": "185567e5",
   "metadata": {},
   "outputs": [],
   "source": [
    "# # Cell 4: MobileNetV2 (smallest version, modified for 2 classes)\n",
    "# from torchvision.models import mobilenet_v2\n",
    "\n",
    "# class MobileNetSmall(nn.Module):\n",
    "#     def __init__(self):\n",
    "#         super(MobileNetSmall, self).__init__()\n",
    "#         self.model = mobilenet_v2(pretrained=False)  # Width multiplier reduces channels = fewer params\n",
    "#         self.model.classifier[1] = nn.Linear(self.model.last_channel, 2)  # Modify output to 2 classes\n",
    "\n",
    "#     def forward(self, x):\n",
    "#         return self.model(x)"
   ]
  },
  {
   "cell_type": "code",
   "execution_count": 24,
   "id": "24ba1681",
   "metadata": {},
   "outputs": [],
   "source": [
    "# Cell 5: VGG-Lite (Custom compact VGG-style network)\n",
    "class VGGLite(nn.Module):\n",
    "    def __init__(self):\n",
    "        super(VGGLite, self).__init__()\n",
    "        self.features = nn.Sequential(\n",
    "            nn.Conv2d(3, 32, kernel_size=3, padding=1),\n",
    "            nn.ReLU(inplace=True),\n",
    "            nn.MaxPool2d(2, 2),\n",
    "\n",
    "            nn.Conv2d(32, 64, kernel_size=3, padding=1),\n",
    "            nn.ReLU(inplace=True),\n",
    "            nn.MaxPool2d(2, 2),\n",
    "            nn.Dropout(0.25),\n",
    "\n",
    "            nn.Conv2d(64, 128, kernel_size=3, padding=1),\n",
    "            nn.ReLU(inplace=True),\n",
    "            nn.MaxPool2d(2, 2),\n",
    "            nn.Dropout(0.25),\n",
    "        )\n",
    "        self.classifier = nn.Sequential(\n",
    "            nn.Flatten(),\n",
    "            nn.Linear(128 * 28 * 28, 256),\n",
    "            nn.ReLU(inplace=True),\n",
    "            nn.Dropout(0.5),\n",
    "            nn.Linear(256, 2)\n",
    "        )\n",
    "\n",
    "    def forward(self, x):\n",
    "        x = self.features(x)\n",
    "        x = self.classifier(x)\n",
    "        return x"
   ]
  },
  {
   "cell_type": "code",
   "execution_count": 25,
   "id": "c0690cc7",
   "metadata": {},
   "outputs": [],
   "source": [
    "# Cell 6: train function\n",
    "\n",
    "def train_model(model, train_loader, test_loader, num_epochs=10, lr=0.001):\n",
    "    device = 'cuda'\n",
    "    model = model.to(device)  # Make sure model runs in float32\n",
    "    criterion = nn.CrossEntropyLoss()\n",
    "    optimizer = optim.Adam(model.parameters(), lr=lr)\n",
    "    print(\"Unique label values in training set:\", set([label for _, label in train_loader.dataset]))\n",
    "\n",
    "\n",
    "    for epoch in range(num_epochs):\n",
    "        model.train()\n",
    "        running_loss = 0.0\n",
    "        for images, labels in train_loader:\n",
    "            images = images.to(device).float()              # float32 for images\n",
    "            labels = labels.to(device).long()               # long for labels\n",
    "\n",
    "            optimizer.zero_grad()\n",
    "            outputs = model(images).float()                 # Ensure model outputs are float32\n",
    "            loss = criterion(outputs, labels)\n",
    "            loss.backward()\n",
    "            optimizer.step()\n",
    "\n",
    "            running_loss += loss.item()\n",
    "        print(f\"Epoch {epoch+1}/{num_epochs}, Loss: {running_loss/len(train_loader):.4f}\")\n",
    "    \n",
    "    return model\n"
   ]
  },
  {
   "cell_type": "code",
   "execution_count": null,
   "id": "eef45436",
   "metadata": {},
   "outputs": [],
   "source": []
  },
  {
   "cell_type": "code",
   "execution_count": 26,
   "id": "f824f1b3",
   "metadata": {},
   "outputs": [],
   "source": [
    "# Cell 7: Evaluation function\n",
    "def evaluate_model(model, test_loader):\n",
    "    device = 'cuda'\n",
    "    model.eval()\n",
    "    y_true, y_pred = [], []\n",
    "\n",
    "    with torch.no_grad():\n",
    "        for images, labels in test_loader:\n",
    "            images = images.to(device)\n",
    "            outputs = model(images)\n",
    "            _, preds = torch.max(outputs, 1)\n",
    "            y_true.extend(labels.numpy())\n",
    "            y_pred.extend(preds.cpu().numpy())\n",
    "\n",
    "    print(\"\\nClassification Report:\")\n",
    "    print(classification_report(y_true, y_pred, target_names=['Healthy', 'Unhealthy']))"
   ]
  },
  {
   "cell_type": "code",
   "execution_count": 35,
   "id": "81548d9b",
   "metadata": {},
   "outputs": [],
   "source": [
    "import torch\n",
    "from sklearn.metrics import roc_curve, auc, classification_report, confusion_matrix, accuracy_score\n",
    "import matplotlib.pyplot as plt\n",
    "import pandas as pd\n",
    "import seaborn as sns\n",
    "from io import StringIO\n",
    "\n",
    "def evaluate_vgg_with_roc(model, test_loader, model_name=\"VGGLite\", device='cuda',\n",
    "                          save_full_csv=True, save_min_csv=True, return_csv_string=True):\n",
    "    model.eval()\n",
    "    y_true, y_pred, y_probs = [], [], []\n",
    "\n",
    "    with torch.no_grad():\n",
    "        for images, labels in test_loader:\n",
    "            images = images.to(device)\n",
    "            labels = labels.to(device)\n",
    "            outputs = model(images)\n",
    "            probs = torch.softmax(outputs, dim=1)[:, 1]   # Probability for class 1 (Unhealthy)\n",
    "            _, preds = torch.max(outputs, 1)\n",
    "\n",
    "            y_true.extend(labels.cpu().numpy())\n",
    "            y_pred.extend(preds.cpu().numpy())\n",
    "            y_probs.extend(probs.cpu().numpy())\n",
    "\n",
    "    # 🧾 Classification report\n",
    "    print(f\"\\nClassification Report for {model_name}:\")\n",
    "    print(classification_report(y_true, y_pred, target_names=['Healthy (h)', 'Unhealthy (u)']))\n",
    "\n",
    "    # 📊 Confusion Matrix\n",
    "    cm = confusion_matrix(y_true, y_pred)\n",
    "    acc = accuracy_score(y_true, y_pred)\n",
    "    print(f\"Accuracy: {acc:.4f}\")\n",
    "\n",
    "    plt.figure(figsize=(6, 5))\n",
    "    sns.heatmap(cm, annot=True, fmt=\"d\", cmap=\"Blues\",\n",
    "                xticklabels=['Healthy', 'Unhealthy'],\n",
    "                yticklabels=['Healthy', 'Unhealthy'])\n",
    "    plt.title(f\"Confusion Matrix - {model_name}\")\n",
    "    plt.xlabel(\"Predicted\")\n",
    "    plt.ylabel(\"Actual\")\n",
    "    plt.tight_layout()\n",
    "    plt.show()\n",
    "\n",
    "    # 🧠 ROC Curve\n",
    "    fpr, tpr, _ = roc_curve(y_true, y_probs)\n",
    "    auc_score = auc(fpr, tpr)\n",
    "\n",
    "    plt.figure(figsize=(7, 6))\n",
    "    plt.plot(fpr, tpr, label=f'{model_name} (AUC = {auc_score:.4f})')\n",
    "    plt.plot([0, 1], [0, 1], linestyle='--', color='gray')\n",
    "    plt.xlabel(\"False Positive Rate\")\n",
    "    plt.ylabel(\"True Positive Rate\")\n",
    "    plt.title(f\"ROC Curve - {model_name}\")\n",
    "    plt.legend(loc=\"lower right\")\n",
    "    plt.grid(True)\n",
    "    plt.tight_layout()\n",
    "    plt.show()\n",
    "\n",
    "    # 📁 Save Predictions to CSV\n",
    "    csv_vgg_model = None\n",
    "\n",
    "    # Full CSV (detailed)\n",
    "    if save_full_csv:\n",
    "        df_full = pd.DataFrame({\n",
    "            'True Label': ['Healthy' if x == 0 else 'Unhealthy' for x in y_true],\n",
    "            'Predicted Label': ['Healthy' if x == 0 else 'Unhealthy' for x in y_pred],\n",
    "            'Predicted Probability (Unhealthy)': y_probs\n",
    "        })\n",
    "        full_csv_filename = f\"{model_name.lower()}_predictions.csv\"\n",
    "        df_full.to_csv(full_csv_filename, index=False)\n",
    "        print(f\"Saved detailed predictions to '{full_csv_filename}'\")\n",
    "\n",
    "    # Minimal CSV (h/u only)\n",
    "    if save_min_csv or return_csv_string:\n",
    "        map_hu = {0: 'h', 1: 'u'}\n",
    "        df_min = pd.DataFrame({\n",
    "            'True Label': [map_hu[int(x)] for x in y_true],\n",
    "            'Predicted Label': [map_hu[int(x)] for x in y_pred]\n",
    "        })\n",
    "\n",
    "        if save_min_csv:\n",
    "            min_csv_filename = f\"{model_name.lower()}_preds_min.csv\"\n",
    "            df_min.to_csv(min_csv_filename, index=False)\n",
    "            print(f\"Saved minimal predictions to '{min_csv_filename}'\")\n",
    "\n",
    "        if return_csv_string:\n",
    "            buf = StringIO()\n",
    "            df_min.to_csv(buf, index=False)\n",
    "            csv_vgg_model = buf.getvalue()\n",
    "            print(\"\\ncsv_vgg_model string preview:\")\n",
    "            print(csv_vgg_model.strip())\n",
    "\n",
    "    return {\n",
    "        \"accuracy\": acc,\n",
    "        \"auc\": auc_score,\n",
    "        \"csv_vgg_model\": csv_vgg_model\n",
    "    }\n",
    "\n",
    "# Example usage:\n",
    "# results = evaluate_vgg_with_roc(vgg_model, test_loader, model_name=\"VGGLite\")\n",
    "# print(results[\"csv_vgg_model\"])\n"
   ]
  },
  {
   "cell_type": "code",
   "execution_count": 28,
   "id": "f13f25e8",
   "metadata": {},
   "outputs": [],
   "source": [
    "# # Cell 8: Run training and evaluation for LeNet\n",
    "# os.environ['CUDA_LAUNCH_BLOCKING'] = '1'\n",
    "# print(\"Training squeezenet_small...\")\n",
    "# lenet_model = VGGLite()\n",
    "# trained_lenet = train_model(lenet_model, train_loader, test_loader)\n",
    "# evaluate_vgg_with_roc(trained_lenet, test_loader)"
   ]
  },
  {
   "cell_type": "code",
   "execution_count": 29,
   "id": "470a040d",
   "metadata": {},
   "outputs": [],
   "source": [
    "# trained_lenet = train_model(lenet_model, train_loader, test_loader)\n",
    "# evaluate_vgg_with_roc(trained_lenet, test_loader)"
   ]
  },
  {
   "cell_type": "code",
   "execution_count": 30,
   "id": "d69df296",
   "metadata": {},
   "outputs": [
    {
     "name": "stdout",
     "output_type": "stream",
     "text": [
      "Training VGGLite...\n"
     ]
    }
   ],
   "source": [
    "# Cell 9: Run training and evaluation for AlexNet\n",
    "print(\"Training VGGLite...\")\n",
    "alexnet_model = VGGLite()"
   ]
  },
  {
   "cell_type": "code",
   "execution_count": 31,
   "id": "b8608d0a",
   "metadata": {},
   "outputs": [
    {
     "name": "stdout",
     "output_type": "stream",
     "text": [
      "Unique label values in training set: {np.int64(0), np.int64(1)}\n",
      "Epoch 1/10, Loss: 1.0663\n",
      "Epoch 2/10, Loss: 0.6939\n",
      "Epoch 3/10, Loss: 0.6834\n",
      "Epoch 4/10, Loss: 0.5476\n",
      "Epoch 5/10, Loss: 0.4469\n",
      "Epoch 6/10, Loss: 0.3553\n",
      "Epoch 7/10, Loss: 0.3048\n",
      "Epoch 8/10, Loss: 0.2311\n",
      "Epoch 9/10, Loss: 0.1938\n",
      "Epoch 10/10, Loss: 0.1428\n"
     ]
    }
   ],
   "source": [
    "trained_alexnet = train_model(alexnet_model, train_loader, test_loader) "
   ]
  },
  {
   "cell_type": "code",
   "execution_count": 36,
   "id": "6527ed9c",
   "metadata": {},
   "outputs": [
    {
     "name": "stdout",
     "output_type": "stream",
     "text": [
      "\n",
      "Classification Report for VGGLite:\n",
      "               precision    recall  f1-score   support\n",
      "\n",
      "  Healthy (h)       0.81      0.97      0.88        30\n",
      "Unhealthy (u)       0.97      0.82      0.89        40\n",
      "\n",
      "     accuracy                           0.89        70\n",
      "    macro avg       0.89      0.90      0.89        70\n",
      " weighted avg       0.90      0.89      0.89        70\n",
      "\n",
      "Accuracy: 0.8857\n"
     ]
    },
    {
     "data": {
      "image/png": "[encoded data removed]",
      "text/plain": [
       "<Figure size 600x500 with 2 Axes>"
      ]
     },
     "metadata": {},
     "output_type": "display_data"
    },
    {
     "data": {
      "image/png": "[encoded data removed]",
      "text/plain": [
       "<Figure size 700x600 with 1 Axes>"
      ]
     },
     "metadata": {},
     "output_type": "display_data"
    },
    {
     "name": "stdout",
     "output_type": "stream",
     "text": [
      "Saved detailed predictions to 'vgglite_predictions.csv'\n",
      "Saved minimal predictions to 'vgglite_preds_min.csv'\n",
      "\n",
      "csv_vgg_model string preview:\n",
      "True Label,Predicted Label\n",
      "u,u\n",
      "u,u\n",
      "u,u\n",
      "u,u\n",
      "u,u\n",
      "h,h\n",
      "u,h\n",
      "u,u\n",
      "u,u\n",
      "h,h\n",
      "u,h\n",
      "h,h\n",
      "h,h\n",
      "u,u\n",
      "u,u\n",
      "h,h\n",
      "u,h\n",
      "u,u\n",
      "u,u\n",
      "h,h\n",
      "u,u\n",
      "u,u\n",
      "u,u\n",
      "u,u\n",
      "u,u\n",
      "h,h\n",
      "h,h\n",
      "h,h\n",
      "h,h\n",
      "h,h\n",
      "h,h\n",
      "h,h\n",
      "u,u\n",
      "u,h\n",
      "u,u\n",
      "h,h\n",
      "u,u\n",
      "h,u\n",
      "h,h\n",
      "h,h\n",
      "u,h\n",
      "u,u\n",
      "u,u\n",
      "u,u\n",
      "u,u\n",
      "h,h\n",
      "h,h\n",
      "h,h\n",
      "u,u\n",
      "h,h\n",
      "u,u\n",
      "h,h\n",
      "u,u\n",
      "u,u\n",
      "u,u\n",
      "u,u\n",
      "h,h\n",
      "h,h\n",
      "u,u\n",
      "u,u\n",
      "u,h\n",
      "u,h\n",
      "u,u\n",
      "h,h\n",
      "h,h\n",
      "h,h\n",
      "h,h\n",
      "h,h\n",
      "h,h\n",
      "u,u\n"
     ]
    },
    {
     "data": {
      "text/plain": [
       "{'accuracy': 0.8857142857142857,\n",
       " 'auc': 0.9616666666666667,\n",
       " 'csv_vgg_model': 'True Label,Predicted Label\\r\\nu,u\\r\\nu,u\\r\\nu,u\\r\\nu,u\\r\\nu,u\\r\\nh,h\\r\\nu,h\\r\\nu,u\\r\\nu,u\\r\\nh,h\\r\\nu,h\\r\\nh,h\\r\\nh,h\\r\\nu,u\\r\\nu,u\\r\\nh,h\\r\\nu,h\\r\\nu,u\\r\\nu,u\\r\\nh,h\\r\\nu,u\\r\\nu,u\\r\\nu,u\\r\\nu,u\\r\\nu,u\\r\\nh,h\\r\\nh,h\\r\\nh,h\\r\\nh,h\\r\\nh,h\\r\\nh,h\\r\\nh,h\\r\\nu,u\\r\\nu,h\\r\\nu,u\\r\\nh,h\\r\\nu,u\\r\\nh,u\\r\\nh,h\\r\\nh,h\\r\\nu,h\\r\\nu,u\\r\\nu,u\\r\\nu,u\\r\\nu,u\\r\\nh,h\\r\\nh,h\\r\\nh,h\\r\\nu,u\\r\\nh,h\\r\\nu,u\\r\\nh,h\\r\\nu,u\\r\\nu,u\\r\\nu,u\\r\\nu,u\\r\\nh,h\\r\\nh,h\\r\\nu,u\\r\\nu,u\\r\\nu,h\\r\\nu,h\\r\\nu,u\\r\\nh,h\\r\\nh,h\\r\\nh,h\\r\\nh,h\\r\\nh,h\\r\\nh,h\\r\\nu,u\\r\\n'}"
      ]
     },
     "execution_count": 36,
     "metadata": {},
     "output_type": "execute_result"
    }
   ],
   "source": [
    "evaluate_vgg_with_roc(trained_alexnet, test_loader)"
   ]
  },
  {
   "cell_type": "code",
   "execution_count": null,
   "id": "f0b1fdf0",
   "metadata": {},
   "outputs": [
    {
     "ename": "NameError",
     "evalue": "name 'model' is not defined",
     "output_type": "error",
     "traceback": [
      "\u001b[31m---------------------------------------------------------------------------\u001b[39m",
      "\u001b[31mNameError\u001b[39m                                 Traceback (most recent call last)",
      "\u001b[36mCell\u001b[39m\u001b[36m \u001b[39m\u001b[32mIn[34]\u001b[39m\u001b[32m, line 90\u001b[39m\n\u001b[32m     83\u001b[39m     \u001b[38;5;28;01mreturn\u001b[39;00m {\n\u001b[32m     84\u001b[39m         \u001b[33m\"\u001b[39m\u001b[33maccuracy\u001b[39m\u001b[33m\"\u001b[39m: acc,\n\u001b[32m     85\u001b[39m         \u001b[33m\"\u001b[39m\u001b[33mauc\u001b[39m\u001b[33m\"\u001b[39m: auc_score,\n\u001b[32m     86\u001b[39m         \u001b[33m\"\u001b[39m\u001b[33mcsv_multi_model\u001b[39m\u001b[33m\"\u001b[39m: csv_multi_model\n\u001b[32m     87\u001b[39m     }\n\u001b[32m     89\u001b[39m \u001b[38;5;66;03m# Example call:\u001b[39;00m\n\u001b[32m---> \u001b[39m\u001b[32m90\u001b[39m results = evaluate_multi_model_with_roc(\u001b[43mmodel\u001b[49m, X_img_test, X_spec_test, y_test, model_name=\u001b[33m\"\u001b[39m\u001b[33mFusionModel\u001b[39m\u001b[33m\"\u001b[39m)\n\u001b[32m     91\u001b[39m \u001b[38;5;28mprint\u001b[39m(results[\u001b[33m\"\u001b[39m\u001b[33mcsv_multi_model\u001b[39m\u001b[33m\"\u001b[39m])  \u001b[38;5;66;03m# <- this is the triple-quoted-style CSV string you wanted\u001b[39;00m\n",
      "\u001b[31mNameError\u001b[39m: name 'model' is not defined"
     ]
    }
   ],
   "source": []
  },
  {
   "cell_type": "code",
   "execution_count": null,
   "id": "6937230c",
   "metadata": {},
   "outputs": [],
   "source": []
  }
 ],
 "metadata": {
  "kernelspec": {
   "display_name": ".env2",
   "language": "python",
   "name": "python3"
  },
  "language_info": {
   "codemirror_mode": {
    "name": "ipython",
    "version": 3
   },
   "file_extension": ".py",
   "mimetype": "text/x-python",
   "name": "python",
   "nbconvert_exporter": "python",
   "pygments_lexer": "ipython3",
   "version": "3.12.4"
  }
 },
 "nbformat": 4,
 "nbformat_minor": 5
}
