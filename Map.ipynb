{
 "cells": [
  {
   "cell_type": "code",
   "execution_count": 1,
   "metadata": {},
   "outputs": [],
   "source": [
    "import pandas as pd\n",
    "\n",
    "sp=pd.read_csv('spectro_18.csv')\n",
    "id=pd.read_csv('img_data.csv')"
   ]
  },
  {
   "cell_type": "code",
   "execution_count": 2,
   "metadata": {},
   "outputs": [],
   "source": [
    "lis=sp['time_s'].to_list()\n",
    "\n",
    "for i in range(len(lis)):\n",
    "    if lis[i]=='14:24:00':\n",
    "        sp=sp.drop(index=i)"
   ]
  },
  {
   "cell_type": "code",
   "execution_count": 3,
   "metadata": {},
   "outputs": [],
   "source": [
    "sp.loc[sp['Records']=='ud1_02:24','Records'] = 'ud1_14:24'\n",
    "sp.loc[sp['Records']=='ud1_14:24','time_s'] = '14:24:00'\n",
    "sp.loc[sp['Records']=='hd1_02:24','Records'] = 'hd1_14:24'\n",
    "sp.loc[sp['Records']=='hd1_14:24','time_s'] = '14:24:00'"
   ]
  },
  {
   "cell_type": "code",
   "execution_count": 4,
   "metadata": {},
   "outputs": [
    {
     "data": {
      "application/vnd.microsoft.datawrangler.viewer.v0+json": {
       "columns": [
        {
         "name": "index",
         "rawType": "int64",
         "type": "integer"
        },
        {
         "name": "Unnamed: 0",
         "rawType": "int64",
         "type": "integer"
        },
        {
         "name": "Records",
         "rawType": "object",
         "type": "string"
        },
        {
         "name": "day_s",
         "rawType": "object",
         "type": "string"
        },
        {
         "name": "time_s",
         "rawType": "object",
         "type": "string"
        },
        {
         "name": "class_s",
         "rawType": "object",
         "type": "string"
        },
        {
         "name": "410",
         "rawType": "float64",
         "type": "float"
        },
        {
         "name": "435",
         "rawType": "float64",
         "type": "float"
        },
        {
         "name": "460",
         "rawType": "float64",
         "type": "float"
        },
        {
         "name": "485",
         "rawType": "float64",
         "type": "float"
        },
        {
         "name": "510",
         "rawType": "float64",
         "type": "float"
        },
        {
         "name": "535",
         "rawType": "float64",
         "type": "float"
        },
        {
         "name": "560",
         "rawType": "float64",
         "type": "float"
        },
        {
         "name": "585",
         "rawType": "float64",
         "type": "float"
        },
        {
         "name": "610",
         "rawType": "float64",
         "type": "float"
        },
        {
         "name": "645",
         "rawType": "float64",
         "type": "float"
        },
        {
         "name": "680",
         "rawType": "float64",
         "type": "float"
        },
        {
         "name": "705",
         "rawType": "float64",
         "type": "float"
        },
        {
         "name": "730",
         "rawType": "float64",
         "type": "float"
        },
        {
         "name": "760",
         "rawType": "float64",
         "type": "float"
        },
        {
         "name": "810",
         "rawType": "float64",
         "type": "float"
        },
        {
         "name": "860",
         "rawType": "float64",
         "type": "float"
        },
        {
         "name": "900",
         "rawType": "float64",
         "type": "float"
        },
        {
         "name": "940",
         "rawType": "float64",
         "type": "float"
        }
       ],
       "conversionMethod": "pd.DataFrame",
       "ref": "d85a35ce-36dc-4f90-9978-09ab2c9faf2b",
       "rows": [
        [
         "0",
         "14",
         "ud1_11:43",
         "d1",
         "11:43:00",
         "u",
         "417.32",
         "512.69",
         "857.61",
         "480.97",
         "510.68",
         "610.51",
         "323.84",
         "411.76",
         "679.5",
         "338.28",
         "701.74",
         "653.83",
         "1933.91",
         "2201.59",
         "2225.5",
         "2375.3",
         "1037.52",
         "687.4"
        ],
        [
         "1",
         "48",
         "ud1_11:54",
         "d1",
         "11:54:00",
         "u",
         "89.24",
         "95.52",
         "144.93",
         "86.19",
         "102.45",
         "99.1",
         "71.09",
         "97.65",
         "113.25",
         "52.6",
         "131.76",
         "118.8",
         "394.77",
         "504.55",
         "667.05",
         "651.24",
         "239.76",
         "127.6"
        ],
        [
         "2",
         "52",
         "ud1_11:56",
         "d1",
         "11:56:00",
         "u",
         "115.59",
         "137.43",
         "198.91",
         "115.84",
         "136.34",
         "140.71",
         "81.09",
         "111.25",
         "136.13",
         "59.87",
         "134.76",
         "118.38",
         "506.0",
         "633.33",
         "640.4",
         "720.02",
         "274.36",
         "167.4"
        ],
        [
         "3",
         "83",
         "ud1_12:00",
         "d1",
         "12:00:00",
         "u",
         "1070.08",
         "1686.23",
         "2807.71",
         "768.26",
         "1004.01",
         "907.07",
         "909.91",
         "1505.08",
         "1134.78",
         "1469.85",
         "1739.88",
         "879.3",
         "4066.77",
         "4191.25",
         "4162.17",
         "4462.14",
         "1876.06",
         "1281.4"
        ],
        [
         "4",
         "65",
         "ud1_12:12",
         "d1",
         "12:12:00",
         "u",
         "502.31",
         "498.07",
         "537.75",
         "618.13",
         "640.71",
         "479.64",
         "436.52",
         "582.91",
         "1205.7",
         "545.69",
         "469.16",
         "387.78",
         "1857.93",
         "1266.67",
         "2044.98",
         "1930.41",
         "486.32",
         "382.1"
        ],
        [
         "5",
         "71",
         "ud1_12:121",
         "d1",
         "12:12:01",
         "u",
         "979.13",
         "1253.46",
         "1945.11",
         "1356.73",
         "1745.6",
         "2001.0",
         "1203.2",
         "1490.49",
         "2849.53",
         "1138.42",
         "3047.54",
         "1915.47",
         "4550.83",
         "4910.98",
         "5690.53",
         "6088.57",
         "2224.58",
         "1343.4"
        ],
        [
         "6",
         "74",
         "ud1_12:122",
         "d1",
         "12:12:02",
         "u",
         "1240.06",
         "1335.34",
         "1653.24",
         "1885.89",
         "1794.46",
         "1629.55",
         "1125.8",
         "1757.27",
         "3847.04",
         "1712.76",
         "2473.57",
         "1600.9",
         "5013.75",
         "4179.02",
         "5614.02",
         "5140.0",
         "1908.19",
         "1317.5"
        ],
        [
         "7",
         "54",
         "ud1_12:24",
         "d1",
         "12:24:00",
         "u",
         "1234.11",
         "1567.32",
         "2354.92",
         "1747.8",
         "2077.38",
         "2395.15",
         "1473.33",
         "1738.65",
         "2941.05",
         "1252.18",
         "2777.02",
         "2203.28",
         "6600.67",
         "7316.34",
         "7995.11",
         "7837.04",
         "2947.57",
         "1610.8"
        ],
        [
         "8",
         "103",
         "ud1_14:24",
         "d1",
         "14:24:00",
         "u",
         "771.75",
         "1405.52",
         "1815.17",
         "1138.02",
         "1340.52",
         "1631.82",
         "876.21",
         "1084.77",
         "1906.93",
         "821.1",
         "1498.32",
         "1023.62",
         "3336.76",
         "3175.63",
         "3331.8",
         "3089.77",
         "1014.66",
         "678.2"
        ]
       ],
       "shape": {
        "columns": 23,
        "rows": 9
       }
      },
      "text/html": [
       "<div>\n",
       "<style scoped>\n",
       "    .dataframe tbody tr th:only-of-type {\n",
       "        vertical-align: middle;\n",
       "    }\n",
       "\n",
       "    .dataframe tbody tr th {\n",
       "        vertical-align: top;\n",
       "    }\n",
       "\n",
       "    .dataframe thead th {\n",
       "        text-align: right;\n",
       "    }\n",
       "</style>\n",
       "<table border=\"1\" class=\"dataframe\">\n",
       "  <thead>\n",
       "    <tr style=\"text-align: right;\">\n",
       "      <th></th>\n",
       "      <th>Unnamed: 0</th>\n",
       "      <th>Records</th>\n",
       "      <th>day_s</th>\n",
       "      <th>time_s</th>\n",
       "      <th>class_s</th>\n",
       "      <th>410</th>\n",
       "      <th>435</th>\n",
       "      <th>460</th>\n",
       "      <th>485</th>\n",
       "      <th>510</th>\n",
       "      <th>...</th>\n",
       "      <th>610</th>\n",
       "      <th>645</th>\n",
       "      <th>680</th>\n",
       "      <th>705</th>\n",
       "      <th>730</th>\n",
       "      <th>760</th>\n",
       "      <th>810</th>\n",
       "      <th>860</th>\n",
       "      <th>900</th>\n",
       "      <th>940</th>\n",
       "    </tr>\n",
       "  </thead>\n",
       "  <tbody>\n",
       "    <tr>\n",
       "      <th>0</th>\n",
       "      <td>14</td>\n",
       "      <td>ud1_11:43</td>\n",
       "      <td>d1</td>\n",
       "      <td>11:43:00</td>\n",
       "      <td>u</td>\n",
       "      <td>417.32</td>\n",
       "      <td>512.69</td>\n",
       "      <td>857.61</td>\n",
       "      <td>480.97</td>\n",
       "      <td>510.68</td>\n",
       "      <td>...</td>\n",
       "      <td>679.50</td>\n",
       "      <td>338.28</td>\n",
       "      <td>701.74</td>\n",
       "      <td>653.83</td>\n",
       "      <td>1933.91</td>\n",
       "      <td>2201.59</td>\n",
       "      <td>2225.50</td>\n",
       "      <td>2375.30</td>\n",
       "      <td>1037.52</td>\n",
       "      <td>687.4</td>\n",
       "    </tr>\n",
       "    <tr>\n",
       "      <th>1</th>\n",
       "      <td>48</td>\n",
       "      <td>ud1_11:54</td>\n",
       "      <td>d1</td>\n",
       "      <td>11:54:00</td>\n",
       "      <td>u</td>\n",
       "      <td>89.24</td>\n",
       "      <td>95.52</td>\n",
       "      <td>144.93</td>\n",
       "      <td>86.19</td>\n",
       "      <td>102.45</td>\n",
       "      <td>...</td>\n",
       "      <td>113.25</td>\n",
       "      <td>52.60</td>\n",
       "      <td>131.76</td>\n",
       "      <td>118.80</td>\n",
       "      <td>394.77</td>\n",
       "      <td>504.55</td>\n",
       "      <td>667.05</td>\n",
       "      <td>651.24</td>\n",
       "      <td>239.76</td>\n",
       "      <td>127.6</td>\n",
       "    </tr>\n",
       "    <tr>\n",
       "      <th>2</th>\n",
       "      <td>52</td>\n",
       "      <td>ud1_11:56</td>\n",
       "      <td>d1</td>\n",
       "      <td>11:56:00</td>\n",
       "      <td>u</td>\n",
       "      <td>115.59</td>\n",
       "      <td>137.43</td>\n",
       "      <td>198.91</td>\n",
       "      <td>115.84</td>\n",
       "      <td>136.34</td>\n",
       "      <td>...</td>\n",
       "      <td>136.13</td>\n",
       "      <td>59.87</td>\n",
       "      <td>134.76</td>\n",
       "      <td>118.38</td>\n",
       "      <td>506.00</td>\n",
       "      <td>633.33</td>\n",
       "      <td>640.40</td>\n",
       "      <td>720.02</td>\n",
       "      <td>274.36</td>\n",
       "      <td>167.4</td>\n",
       "    </tr>\n",
       "    <tr>\n",
       "      <th>3</th>\n",
       "      <td>83</td>\n",
       "      <td>ud1_12:00</td>\n",
       "      <td>d1</td>\n",
       "      <td>12:00:00</td>\n",
       "      <td>u</td>\n",
       "      <td>1070.08</td>\n",
       "      <td>1686.23</td>\n",
       "      <td>2807.71</td>\n",
       "      <td>768.26</td>\n",
       "      <td>1004.01</td>\n",
       "      <td>...</td>\n",
       "      <td>1134.78</td>\n",
       "      <td>1469.85</td>\n",
       "      <td>1739.88</td>\n",
       "      <td>879.30</td>\n",
       "      <td>4066.77</td>\n",
       "      <td>4191.25</td>\n",
       "      <td>4162.17</td>\n",
       "      <td>4462.14</td>\n",
       "      <td>1876.06</td>\n",
       "      <td>1281.4</td>\n",
       "    </tr>\n",
       "    <tr>\n",
       "      <th>4</th>\n",
       "      <td>65</td>\n",
       "      <td>ud1_12:12</td>\n",
       "      <td>d1</td>\n",
       "      <td>12:12:00</td>\n",
       "      <td>u</td>\n",
       "      <td>502.31</td>\n",
       "      <td>498.07</td>\n",
       "      <td>537.75</td>\n",
       "      <td>618.13</td>\n",
       "      <td>640.71</td>\n",
       "      <td>...</td>\n",
       "      <td>1205.70</td>\n",
       "      <td>545.69</td>\n",
       "      <td>469.16</td>\n",
       "      <td>387.78</td>\n",
       "      <td>1857.93</td>\n",
       "      <td>1266.67</td>\n",
       "      <td>2044.98</td>\n",
       "      <td>1930.41</td>\n",
       "      <td>486.32</td>\n",
       "      <td>382.1</td>\n",
       "    </tr>\n",
       "    <tr>\n",
       "      <th>5</th>\n",
       "      <td>71</td>\n",
       "      <td>ud1_12:121</td>\n",
       "      <td>d1</td>\n",
       "      <td>12:12:01</td>\n",
       "      <td>u</td>\n",
       "      <td>979.13</td>\n",
       "      <td>1253.46</td>\n",
       "      <td>1945.11</td>\n",
       "      <td>1356.73</td>\n",
       "      <td>1745.60</td>\n",
       "      <td>...</td>\n",
       "      <td>2849.53</td>\n",
       "      <td>1138.42</td>\n",
       "      <td>3047.54</td>\n",
       "      <td>1915.47</td>\n",
       "      <td>4550.83</td>\n",
       "      <td>4910.98</td>\n",
       "      <td>5690.53</td>\n",
       "      <td>6088.57</td>\n",
       "      <td>2224.58</td>\n",
       "      <td>1343.4</td>\n",
       "    </tr>\n",
       "    <tr>\n",
       "      <th>6</th>\n",
       "      <td>74</td>\n",
       "      <td>ud1_12:122</td>\n",
       "      <td>d1</td>\n",
       "      <td>12:12:02</td>\n",
       "      <td>u</td>\n",
       "      <td>1240.06</td>\n",
       "      <td>1335.34</td>\n",
       "      <td>1653.24</td>\n",
       "      <td>1885.89</td>\n",
       "      <td>1794.46</td>\n",
       "      <td>...</td>\n",
       "      <td>3847.04</td>\n",
       "      <td>1712.76</td>\n",
       "      <td>2473.57</td>\n",
       "      <td>1600.90</td>\n",
       "      <td>5013.75</td>\n",
       "      <td>4179.02</td>\n",
       "      <td>5614.02</td>\n",
       "      <td>5140.00</td>\n",
       "      <td>1908.19</td>\n",
       "      <td>1317.5</td>\n",
       "    </tr>\n",
       "    <tr>\n",
       "      <th>7</th>\n",
       "      <td>54</td>\n",
       "      <td>ud1_12:24</td>\n",
       "      <td>d1</td>\n",
       "      <td>12:24:00</td>\n",
       "      <td>u</td>\n",
       "      <td>1234.11</td>\n",
       "      <td>1567.32</td>\n",
       "      <td>2354.92</td>\n",
       "      <td>1747.80</td>\n",
       "      <td>2077.38</td>\n",
       "      <td>...</td>\n",
       "      <td>2941.05</td>\n",
       "      <td>1252.18</td>\n",
       "      <td>2777.02</td>\n",
       "      <td>2203.28</td>\n",
       "      <td>6600.67</td>\n",
       "      <td>7316.34</td>\n",
       "      <td>7995.11</td>\n",
       "      <td>7837.04</td>\n",
       "      <td>2947.57</td>\n",
       "      <td>1610.8</td>\n",
       "    </tr>\n",
       "    <tr>\n",
       "      <th>8</th>\n",
       "      <td>103</td>\n",
       "      <td>ud1_14:24</td>\n",
       "      <td>d1</td>\n",
       "      <td>14:24:00</td>\n",
       "      <td>u</td>\n",
       "      <td>771.75</td>\n",
       "      <td>1405.52</td>\n",
       "      <td>1815.17</td>\n",
       "      <td>1138.02</td>\n",
       "      <td>1340.52</td>\n",
       "      <td>...</td>\n",
       "      <td>1906.93</td>\n",
       "      <td>821.10</td>\n",
       "      <td>1498.32</td>\n",
       "      <td>1023.62</td>\n",
       "      <td>3336.76</td>\n",
       "      <td>3175.63</td>\n",
       "      <td>3331.80</td>\n",
       "      <td>3089.77</td>\n",
       "      <td>1014.66</td>\n",
       "      <td>678.2</td>\n",
       "    </tr>\n",
       "  </tbody>\n",
       "</table>\n",
       "<p>9 rows × 23 columns</p>\n",
       "</div>"
      ],
      "text/plain": [
       "   Unnamed: 0     Records day_s    time_s class_s      410      435      460  \\\n",
       "0          14   ud1_11:43    d1  11:43:00       u   417.32   512.69   857.61   \n",
       "1          48   ud1_11:54    d1  11:54:00       u    89.24    95.52   144.93   \n",
       "2          52   ud1_11:56    d1  11:56:00       u   115.59   137.43   198.91   \n",
       "3          83   ud1_12:00    d1  12:00:00       u  1070.08  1686.23  2807.71   \n",
       "4          65   ud1_12:12    d1  12:12:00       u   502.31   498.07   537.75   \n",
       "5          71  ud1_12:121    d1  12:12:01       u   979.13  1253.46  1945.11   \n",
       "6          74  ud1_12:122    d1  12:12:02       u  1240.06  1335.34  1653.24   \n",
       "7          54   ud1_12:24    d1  12:24:00       u  1234.11  1567.32  2354.92   \n",
       "8         103   ud1_14:24    d1  14:24:00       u   771.75  1405.52  1815.17   \n",
       "\n",
       "       485      510  ...      610      645      680      705      730  \\\n",
       "0   480.97   510.68  ...   679.50   338.28   701.74   653.83  1933.91   \n",
       "1    86.19   102.45  ...   113.25    52.60   131.76   118.80   394.77   \n",
       "2   115.84   136.34  ...   136.13    59.87   134.76   118.38   506.00   \n",
       "3   768.26  1004.01  ...  1134.78  1469.85  1739.88   879.30  4066.77   \n",
       "4   618.13   640.71  ...  1205.70   545.69   469.16   387.78  1857.93   \n",
       "5  1356.73  1745.60  ...  2849.53  1138.42  3047.54  1915.47  4550.83   \n",
       "6  1885.89  1794.46  ...  3847.04  1712.76  2473.57  1600.90  5013.75   \n",
       "7  1747.80  2077.38  ...  2941.05  1252.18  2777.02  2203.28  6600.67   \n",
       "8  1138.02  1340.52  ...  1906.93   821.10  1498.32  1023.62  3336.76   \n",
       "\n",
       "       760      810      860      900     940  \n",
       "0  2201.59  2225.50  2375.30  1037.52   687.4  \n",
       "1   504.55   667.05   651.24   239.76   127.6  \n",
       "2   633.33   640.40   720.02   274.36   167.4  \n",
       "3  4191.25  4162.17  4462.14  1876.06  1281.4  \n",
       "4  1266.67  2044.98  1930.41   486.32   382.1  \n",
       "5  4910.98  5690.53  6088.57  2224.58  1343.4  \n",
       "6  4179.02  5614.02  5140.00  1908.19  1317.5  \n",
       "7  7316.34  7995.11  7837.04  2947.57  1610.8  \n",
       "8  3175.63  3331.80  3089.77  1014.66   678.2  \n",
       "\n",
       "[9 rows x 23 columns]"
      ]
     },
     "execution_count": 4,
     "metadata": {},
     "output_type": "execute_result"
    }
   ],
   "source": [
    "ud1_sp=sp[(sp['day_s']=='d1') & (sp['class_s']=='u')]\n",
    "ud1_sp=ud1_sp.sort_values(by='time_s')\n",
    "ud1_sp=ud1_sp.reset_index(drop=True)\n",
    "ud1_sp"
   ]
  },
  {
   "cell_type": "code",
   "execution_count": 5,
   "metadata": {},
   "outputs": [
    {
     "data": {
      "application/vnd.microsoft.datawrangler.viewer.v0+json": {
       "columns": [
        {
         "name": "index",
         "rawType": "int64",
         "type": "integer"
        },
        {
         "name": "Unnamed: 0.1",
         "rawType": "int64",
         "type": "integer"
        },
        {
         "name": "Unnamed: 0",
         "rawType": "int64",
         "type": "integer"
        },
        {
         "name": "image_name",
         "rawType": "object",
         "type": "string"
        },
        {
         "name": "folder",
         "rawType": "object",
         "type": "string"
        },
        {
         "name": "date",
         "rawType": "int64",
         "type": "integer"
        },
        {
         "name": "time",
         "rawType": "object",
         "type": "string"
        },
        {
         "name": "day",
         "rawType": "object",
         "type": "string"
        },
        {
         "name": "class",
         "rawType": "object",
         "type": "string"
        }
       ],
       "conversionMethod": "pd.DataFrame",
       "ref": "dda1ac9a-389c-4827-ba6e-13f7049b7eba",
       "rows": [
        [
         "0",
         "0",
         "0",
         "IMG_20250301_114507.jpg",
         "ad1//u",
         "1",
         "11:45",
         "d1",
         "u"
        ],
        [
         "1",
         "1",
         "1",
         "IMG_20250301_115341.jpg",
         "ad1//u",
         "1",
         "11:53",
         "d1",
         "u"
        ],
        [
         "2",
         "2",
         "2",
         "IMG_20250301_115705.jpg",
         "ad1//u",
         "1",
         "11:57",
         "d1",
         "u"
        ],
        [
         "3",
         "3",
         "3",
         "IMG_20250301_120034.jpg",
         "ad1//u",
         "1",
         "12:00",
         "d1",
         "u"
        ],
        [
         "4",
         "4",
         "4",
         "IMG_20250301_121320.jpg",
         "ad1//u",
         "1",
         "12:13",
         "d1",
         "u"
        ],
        [
         "5",
         "5",
         "5",
         "IMG_20250301_121808.jpg",
         "ad1//u",
         "1",
         "12:18",
         "d1",
         "u"
        ],
        [
         "6",
         "6",
         "6",
         "IMG_20250301_121924.jpg",
         "ad1//u",
         "1",
         "12:19",
         "d1",
         "u"
        ],
        [
         "7",
         "7",
         "7",
         "IMG_20250301_122525.jpg",
         "ad1//u",
         "1",
         "12:25",
         "d1",
         "u"
        ],
        [
         "8",
         "8",
         "8",
         "IMG_20250301_142812.jpg",
         "ad1//u",
         "1",
         "14:28",
         "d1",
         "u"
        ]
       ],
       "shape": {
        "columns": 8,
        "rows": 9
       }
      },
      "text/html": [
       "<div>\n",
       "<style scoped>\n",
       "    .dataframe tbody tr th:only-of-type {\n",
       "        vertical-align: middle;\n",
       "    }\n",
       "\n",
       "    .dataframe tbody tr th {\n",
       "        vertical-align: top;\n",
       "    }\n",
       "\n",
       "    .dataframe thead th {\n",
       "        text-align: right;\n",
       "    }\n",
       "</style>\n",
       "<table border=\"1\" class=\"dataframe\">\n",
       "  <thead>\n",
       "    <tr style=\"text-align: right;\">\n",
       "      <th></th>\n",
       "      <th>Unnamed: 0.1</th>\n",
       "      <th>Unnamed: 0</th>\n",
       "      <th>image_name</th>\n",
       "      <th>folder</th>\n",
       "      <th>date</th>\n",
       "      <th>time</th>\n",
       "      <th>day</th>\n",
       "      <th>class</th>\n",
       "    </tr>\n",
       "  </thead>\n",
       "  <tbody>\n",
       "    <tr>\n",
       "      <th>0</th>\n",
       "      <td>0</td>\n",
       "      <td>0</td>\n",
       "      <td>IMG_20250301_114507.jpg</td>\n",
       "      <td>ad1//u</td>\n",
       "      <td>1</td>\n",
       "      <td>11:45</td>\n",
       "      <td>d1</td>\n",
       "      <td>u</td>\n",
       "    </tr>\n",
       "    <tr>\n",
       "      <th>1</th>\n",
       "      <td>1</td>\n",
       "      <td>1</td>\n",
       "      <td>IMG_20250301_115341.jpg</td>\n",
       "      <td>ad1//u</td>\n",
       "      <td>1</td>\n",
       "      <td>11:53</td>\n",
       "      <td>d1</td>\n",
       "      <td>u</td>\n",
       "    </tr>\n",
       "    <tr>\n",
       "      <th>2</th>\n",
       "      <td>2</td>\n",
       "      <td>2</td>\n",
       "      <td>IMG_20250301_115705.jpg</td>\n",
       "      <td>ad1//u</td>\n",
       "      <td>1</td>\n",
       "      <td>11:57</td>\n",
       "      <td>d1</td>\n",
       "      <td>u</td>\n",
       "    </tr>\n",
       "    <tr>\n",
       "      <th>3</th>\n",
       "      <td>3</td>\n",
       "      <td>3</td>\n",
       "      <td>IMG_20250301_120034.jpg</td>\n",
       "      <td>ad1//u</td>\n",
       "      <td>1</td>\n",
       "      <td>12:00</td>\n",
       "      <td>d1</td>\n",
       "      <td>u</td>\n",
       "    </tr>\n",
       "    <tr>\n",
       "      <th>4</th>\n",
       "      <td>4</td>\n",
       "      <td>4</td>\n",
       "      <td>IMG_20250301_121320.jpg</td>\n",
       "      <td>ad1//u</td>\n",
       "      <td>1</td>\n",
       "      <td>12:13</td>\n",
       "      <td>d1</td>\n",
       "      <td>u</td>\n",
       "    </tr>\n",
       "    <tr>\n",
       "      <th>5</th>\n",
       "      <td>5</td>\n",
       "      <td>5</td>\n",
       "      <td>IMG_20250301_121808.jpg</td>\n",
       "      <td>ad1//u</td>\n",
       "      <td>1</td>\n",
       "      <td>12:18</td>\n",
       "      <td>d1</td>\n",
       "      <td>u</td>\n",
       "    </tr>\n",
       "    <tr>\n",
       "      <th>6</th>\n",
       "      <td>6</td>\n",
       "      <td>6</td>\n",
       "      <td>IMG_20250301_121924.jpg</td>\n",
       "      <td>ad1//u</td>\n",
       "      <td>1</td>\n",
       "      <td>12:19</td>\n",
       "      <td>d1</td>\n",
       "      <td>u</td>\n",
       "    </tr>\n",
       "    <tr>\n",
       "      <th>7</th>\n",
       "      <td>7</td>\n",
       "      <td>7</td>\n",
       "      <td>IMG_20250301_122525.jpg</td>\n",
       "      <td>ad1//u</td>\n",
       "      <td>1</td>\n",
       "      <td>12:25</td>\n",
       "      <td>d1</td>\n",
       "      <td>u</td>\n",
       "    </tr>\n",
       "    <tr>\n",
       "      <th>8</th>\n",
       "      <td>8</td>\n",
       "      <td>8</td>\n",
       "      <td>IMG_20250301_142812.jpg</td>\n",
       "      <td>ad1//u</td>\n",
       "      <td>1</td>\n",
       "      <td>14:28</td>\n",
       "      <td>d1</td>\n",
       "      <td>u</td>\n",
       "    </tr>\n",
       "  </tbody>\n",
       "</table>\n",
       "</div>"
      ],
      "text/plain": [
       "   Unnamed: 0.1  Unnamed: 0               image_name  folder  date   time day  \\\n",
       "0             0           0  IMG_20250301_114507.jpg  ad1//u     1  11:45  d1   \n",
       "1             1           1  IMG_20250301_115341.jpg  ad1//u     1  11:53  d1   \n",
       "2             2           2  IMG_20250301_115705.jpg  ad1//u     1  11:57  d1   \n",
       "3             3           3  IMG_20250301_120034.jpg  ad1//u     1  12:00  d1   \n",
       "4             4           4  IMG_20250301_121320.jpg  ad1//u     1  12:13  d1   \n",
       "5             5           5  IMG_20250301_121808.jpg  ad1//u     1  12:18  d1   \n",
       "6             6           6  IMG_20250301_121924.jpg  ad1//u     1  12:19  d1   \n",
       "7             7           7  IMG_20250301_122525.jpg  ad1//u     1  12:25  d1   \n",
       "8             8           8  IMG_20250301_142812.jpg  ad1//u     1  14:28  d1   \n",
       "\n",
       "  class  \n",
       "0     u  \n",
       "1     u  \n",
       "2     u  \n",
       "3     u  \n",
       "4     u  \n",
       "5     u  \n",
       "6     u  \n",
       "7     u  \n",
       "8     u  "
      ]
     },
     "execution_count": 5,
     "metadata": {},
     "output_type": "execute_result"
    }
   ],
   "source": [
    "ud1_id=id[(id['day']=='d1') & (id['class']=='u')]\n",
    "ud1_id=ud1_id.sort_values(by='time')\n",
    "ud1_id=ud1_id.reset_index(drop=True)\n",
    "ud1_id"
   ]
  },
  {
   "cell_type": "code",
   "execution_count": 6,
   "metadata": {},
   "outputs": [
    {
     "data": {
      "application/vnd.microsoft.datawrangler.viewer.v0+json": {
       "columns": [
        {
         "name": "index",
         "rawType": "int64",
         "type": "integer"
        },
        {
         "name": "time",
         "rawType": "object",
         "type": "string"
        },
        {
         "name": "time_s",
         "rawType": "object",
         "type": "string"
        }
       ],
       "conversionMethod": "pd.DataFrame",
       "ref": "91797412-9a15-4c5a-8a63-c450d02ce289",
       "rows": [
        [
         "0",
         "11:45",
         "11:43:00"
        ],
        [
         "1",
         "11:53",
         "11:54:00"
        ],
        [
         "2",
         "11:57",
         "11:56:00"
        ],
        [
         "3",
         "12:00",
         "12:00:00"
        ],
        [
         "4",
         "12:13",
         "12:12:00"
        ],
        [
         "5",
         "12:18",
         "12:12:01"
        ],
        [
         "6",
         "12:19",
         "12:12:02"
        ],
        [
         "7",
         "12:25",
         "12:24:00"
        ],
        [
         "8",
         "14:28",
         "14:24:00"
        ]
       ],
       "shape": {
        "columns": 2,
        "rows": 9
       }
      },
      "text/html": [
       "<div>\n",
       "<style scoped>\n",
       "    .dataframe tbody tr th:only-of-type {\n",
       "        vertical-align: middle;\n",
       "    }\n",
       "\n",
       "    .dataframe tbody tr th {\n",
       "        vertical-align: top;\n",
       "    }\n",
       "\n",
       "    .dataframe thead th {\n",
       "        text-align: right;\n",
       "    }\n",
       "</style>\n",
       "<table border=\"1\" class=\"dataframe\">\n",
       "  <thead>\n",
       "    <tr style=\"text-align: right;\">\n",
       "      <th></th>\n",
       "      <th>time</th>\n",
       "      <th>time_s</th>\n",
       "    </tr>\n",
       "  </thead>\n",
       "  <tbody>\n",
       "    <tr>\n",
       "      <th>0</th>\n",
       "      <td>11:45</td>\n",
       "      <td>11:43:00</td>\n",
       "    </tr>\n",
       "    <tr>\n",
       "      <th>1</th>\n",
       "      <td>11:53</td>\n",
       "      <td>11:54:00</td>\n",
       "    </tr>\n",
       "    <tr>\n",
       "      <th>2</th>\n",
       "      <td>11:57</td>\n",
       "      <td>11:56:00</td>\n",
       "    </tr>\n",
       "    <tr>\n",
       "      <th>3</th>\n",
       "      <td>12:00</td>\n",
       "      <td>12:00:00</td>\n",
       "    </tr>\n",
       "    <tr>\n",
       "      <th>4</th>\n",
       "      <td>12:13</td>\n",
       "      <td>12:12:00</td>\n",
       "    </tr>\n",
       "    <tr>\n",
       "      <th>5</th>\n",
       "      <td>12:18</td>\n",
       "      <td>12:12:01</td>\n",
       "    </tr>\n",
       "    <tr>\n",
       "      <th>6</th>\n",
       "      <td>12:19</td>\n",
       "      <td>12:12:02</td>\n",
       "    </tr>\n",
       "    <tr>\n",
       "      <th>7</th>\n",
       "      <td>12:25</td>\n",
       "      <td>12:24:00</td>\n",
       "    </tr>\n",
       "    <tr>\n",
       "      <th>8</th>\n",
       "      <td>14:28</td>\n",
       "      <td>14:24:00</td>\n",
       "    </tr>\n",
       "  </tbody>\n",
       "</table>\n",
       "</div>"
      ],
      "text/plain": [
       "    time    time_s\n",
       "0  11:45  11:43:00\n",
       "1  11:53  11:54:00\n",
       "2  11:57  11:56:00\n",
       "3  12:00  12:00:00\n",
       "4  12:13  12:12:00\n",
       "5  12:18  12:12:01\n",
       "6  12:19  12:12:02\n",
       "7  12:25  12:24:00\n",
       "8  14:28  14:24:00"
      ]
     },
     "execution_count": 6,
     "metadata": {},
     "output_type": "execute_result"
    }
   ],
   "source": [
    "ud1=pd.concat([ud1_sp,ud1_id],axis=1)\n",
    "ud1[['time','time_s']]"
   ]
  },
  {
   "cell_type": "code",
   "execution_count": 7,
   "metadata": {},
   "outputs": [
    {
     "data": {
      "application/vnd.microsoft.datawrangler.viewer.v0+json": {
       "columns": [
        {
         "name": "index",
         "rawType": "int64",
         "type": "integer"
        },
        {
         "name": "time",
         "rawType": "object",
         "type": "string"
        },
        {
         "name": "time_s",
         "rawType": "object",
         "type": "string"
        }
       ],
       "conversionMethod": "pd.DataFrame",
       "ref": "6dde0679-2a35-4127-8696-4486d45bd845",
       "rows": [
        [
         "0",
         "11:46",
         "11:45:00"
        ],
        [
         "1",
         "11:54",
         "11:54:00"
        ],
        [
         "2",
         "11:57",
         "11:56:00"
        ],
        [
         "3",
         "12:00",
         "12:00:00"
        ],
        [
         "4",
         "12:14",
         "12:12:00"
        ],
        [
         "5",
         "12:21",
         "12:12:01"
        ],
        [
         "6",
         "12:21",
         "12:12:02"
        ],
        [
         "7",
         "12:33",
         "12:24:00"
        ],
        [
         "8",
         "14:28",
         "14:24:00"
        ]
       ],
       "shape": {
        "columns": 2,
        "rows": 9
       }
      },
      "text/html": [
       "<div>\n",
       "<style scoped>\n",
       "    .dataframe tbody tr th:only-of-type {\n",
       "        vertical-align: middle;\n",
       "    }\n",
       "\n",
       "    .dataframe tbody tr th {\n",
       "        vertical-align: top;\n",
       "    }\n",
       "\n",
       "    .dataframe thead th {\n",
       "        text-align: right;\n",
       "    }\n",
       "</style>\n",
       "<table border=\"1\" class=\"dataframe\">\n",
       "  <thead>\n",
       "    <tr style=\"text-align: right;\">\n",
       "      <th></th>\n",
       "      <th>time</th>\n",
       "      <th>time_s</th>\n",
       "    </tr>\n",
       "  </thead>\n",
       "  <tbody>\n",
       "    <tr>\n",
       "      <th>0</th>\n",
       "      <td>11:46</td>\n",
       "      <td>11:45:00</td>\n",
       "    </tr>\n",
       "    <tr>\n",
       "      <th>1</th>\n",
       "      <td>11:54</td>\n",
       "      <td>11:54:00</td>\n",
       "    </tr>\n",
       "    <tr>\n",
       "      <th>2</th>\n",
       "      <td>11:57</td>\n",
       "      <td>11:56:00</td>\n",
       "    </tr>\n",
       "    <tr>\n",
       "      <th>3</th>\n",
       "      <td>12:00</td>\n",
       "      <td>12:00:00</td>\n",
       "    </tr>\n",
       "    <tr>\n",
       "      <th>4</th>\n",
       "      <td>12:14</td>\n",
       "      <td>12:12:00</td>\n",
       "    </tr>\n",
       "    <tr>\n",
       "      <th>5</th>\n",
       "      <td>12:21</td>\n",
       "      <td>12:12:01</td>\n",
       "    </tr>\n",
       "    <tr>\n",
       "      <th>6</th>\n",
       "      <td>12:21</td>\n",
       "      <td>12:12:02</td>\n",
       "    </tr>\n",
       "    <tr>\n",
       "      <th>7</th>\n",
       "      <td>12:33</td>\n",
       "      <td>12:24:00</td>\n",
       "    </tr>\n",
       "    <tr>\n",
       "      <th>8</th>\n",
       "      <td>14:28</td>\n",
       "      <td>14:24:00</td>\n",
       "    </tr>\n",
       "  </tbody>\n",
       "</table>\n",
       "</div>"
      ],
      "text/plain": [
       "    time    time_s\n",
       "0  11:46  11:45:00\n",
       "1  11:54  11:54:00\n",
       "2  11:57  11:56:00\n",
       "3  12:00  12:00:00\n",
       "4  12:14  12:12:00\n",
       "5  12:21  12:12:01\n",
       "6  12:21  12:12:02\n",
       "7  12:33  12:24:00\n",
       "8  14:28  14:24:00"
      ]
     },
     "execution_count": 7,
     "metadata": {},
     "output_type": "execute_result"
    }
   ],
   "source": [
    "hd1_sp=sp[(sp['day_s']=='d1') & (sp['class_s']=='h')]\n",
    "hd1_sp=hd1_sp.sort_values(by='time_s')\n",
    "hd1_sp=hd1_sp.reset_index(drop=True)\n",
    "\n",
    "hd1_id=id[(id['day']=='d1') & (id['class']=='h')]\n",
    "hd1_id=hd1_id.sort_values(by='time')\n",
    "hd1_id=hd1_id.reset_index(drop=True)\n",
    "\n",
    "hd1=pd.concat([hd1_sp,hd1_id],axis=1)\n",
    "hd1[['time','time_s']]"
   ]
  },
  {
   "cell_type": "code",
   "execution_count": 8,
   "metadata": {},
   "outputs": [
    {
     "data": {
      "application/vnd.microsoft.datawrangler.viewer.v0+json": {
       "columns": [
        {
         "name": "index",
         "rawType": "int64",
         "type": "integer"
        },
        {
         "name": "time",
         "rawType": "object",
         "type": "string"
        },
        {
         "name": "time_s",
         "rawType": "object",
         "type": "string"
        }
       ],
       "conversionMethod": "pd.DataFrame",
       "ref": "0fb80e78-4c67-4b9b-902c-f2cb361216b8",
       "rows": [
        [
         "0",
         "09:19",
         "09:16:00"
        ],
        [
         "1",
         "09:21",
         "09:20:00"
        ],
        [
         "2",
         "09:27",
         "09:25:00"
        ],
        [
         "3",
         "09:42",
         "09:40:00"
        ],
        [
         "4",
         "09:50",
         "09:49:00"
        ],
        [
         "5",
         "09:52",
         "09:51:00"
        ]
       ],
       "shape": {
        "columns": 2,
        "rows": 6
       }
      },
      "text/html": [
       "<div>\n",
       "<style scoped>\n",
       "    .dataframe tbody tr th:only-of-type {\n",
       "        vertical-align: middle;\n",
       "    }\n",
       "\n",
       "    .dataframe tbody tr th {\n",
       "        vertical-align: top;\n",
       "    }\n",
       "\n",
       "    .dataframe thead th {\n",
       "        text-align: right;\n",
       "    }\n",
       "</style>\n",
       "<table border=\"1\" class=\"dataframe\">\n",
       "  <thead>\n",
       "    <tr style=\"text-align: right;\">\n",
       "      <th></th>\n",
       "      <th>time</th>\n",
       "      <th>time_s</th>\n",
       "    </tr>\n",
       "  </thead>\n",
       "  <tbody>\n",
       "    <tr>\n",
       "      <th>0</th>\n",
       "      <td>09:19</td>\n",
       "      <td>09:16:00</td>\n",
       "    </tr>\n",
       "    <tr>\n",
       "      <th>1</th>\n",
       "      <td>09:21</td>\n",
       "      <td>09:20:00</td>\n",
       "    </tr>\n",
       "    <tr>\n",
       "      <th>2</th>\n",
       "      <td>09:27</td>\n",
       "      <td>09:25:00</td>\n",
       "    </tr>\n",
       "    <tr>\n",
       "      <th>3</th>\n",
       "      <td>09:42</td>\n",
       "      <td>09:40:00</td>\n",
       "    </tr>\n",
       "    <tr>\n",
       "      <th>4</th>\n",
       "      <td>09:50</td>\n",
       "      <td>09:49:00</td>\n",
       "    </tr>\n",
       "    <tr>\n",
       "      <th>5</th>\n",
       "      <td>09:52</td>\n",
       "      <td>09:51:00</td>\n",
       "    </tr>\n",
       "  </tbody>\n",
       "</table>\n",
       "</div>"
      ],
      "text/plain": [
       "    time    time_s\n",
       "0  09:19  09:16:00\n",
       "1  09:21  09:20:00\n",
       "2  09:27  09:25:00\n",
       "3  09:42  09:40:00\n",
       "4  09:50  09:49:00\n",
       "5  09:52  09:51:00"
      ]
     },
     "execution_count": 8,
     "metadata": {},
     "output_type": "execute_result"
    }
   ],
   "source": [
    "hd2_sp=sp[(sp['day_s']=='d2') & (sp['class_s']=='h')]\n",
    "hd2_sp=hd2_sp.sort_values(by='time_s')\n",
    "hd2_sp=hd2_sp.reset_index(drop=True)\n",
    "\n",
    "hd2_id=id[(id['day']=='d2') & (id['class']=='h')]\n",
    "hd2_id=hd2_id.sort_values(by='time')\n",
    "hd2_id=hd2_id.reset_index(drop=True)\n",
    "\n",
    "hd2=pd.concat([hd2_sp,hd2_id],axis=1)\n",
    "hd2[['time','time_s']]"
   ]
  },
  {
   "cell_type": "code",
   "execution_count": 9,
   "metadata": {},
   "outputs": [
    {
     "data": {
      "application/vnd.microsoft.datawrangler.viewer.v0+json": {
       "columns": [
        {
         "name": "index",
         "rawType": "int64",
         "type": "integer"
        },
        {
         "name": "time",
         "rawType": "object",
         "type": "string"
        },
        {
         "name": "time_s",
         "rawType": "object",
         "type": "string"
        }
       ],
       "conversionMethod": "pd.DataFrame",
       "ref": "3759319a-0989-4baf-bcf6-09c84319c82b",
       "rows": [
        [
         "0",
         "09:18",
         "09:16:00"
        ],
        [
         "1",
         "09:20",
         "09:20:00"
        ],
        [
         "2",
         "09:25",
         "09:25:00"
        ],
        [
         "3",
         "09:41",
         "09:40:00"
        ],
        [
         "4",
         "09:48",
         "09:49:00"
        ],
        [
         "5",
         "09:51",
         "09:51:00"
        ]
       ],
       "shape": {
        "columns": 2,
        "rows": 6
       }
      },
      "text/html": [
       "<div>\n",
       "<style scoped>\n",
       "    .dataframe tbody tr th:only-of-type {\n",
       "        vertical-align: middle;\n",
       "    }\n",
       "\n",
       "    .dataframe tbody tr th {\n",
       "        vertical-align: top;\n",
       "    }\n",
       "\n",
       "    .dataframe thead th {\n",
       "        text-align: right;\n",
       "    }\n",
       "</style>\n",
       "<table border=\"1\" class=\"dataframe\">\n",
       "  <thead>\n",
       "    <tr style=\"text-align: right;\">\n",
       "      <th></th>\n",
       "      <th>time</th>\n",
       "      <th>time_s</th>\n",
       "    </tr>\n",
       "  </thead>\n",
       "  <tbody>\n",
       "    <tr>\n",
       "      <th>0</th>\n",
       "      <td>09:18</td>\n",
       "      <td>09:16:00</td>\n",
       "    </tr>\n",
       "    <tr>\n",
       "      <th>1</th>\n",
       "      <td>09:20</td>\n",
       "      <td>09:20:00</td>\n",
       "    </tr>\n",
       "    <tr>\n",
       "      <th>2</th>\n",
       "      <td>09:25</td>\n",
       "      <td>09:25:00</td>\n",
       "    </tr>\n",
       "    <tr>\n",
       "      <th>3</th>\n",
       "      <td>09:41</td>\n",
       "      <td>09:40:00</td>\n",
       "    </tr>\n",
       "    <tr>\n",
       "      <th>4</th>\n",
       "      <td>09:48</td>\n",
       "      <td>09:49:00</td>\n",
       "    </tr>\n",
       "    <tr>\n",
       "      <th>5</th>\n",
       "      <td>09:51</td>\n",
       "      <td>09:51:00</td>\n",
       "    </tr>\n",
       "  </tbody>\n",
       "</table>\n",
       "</div>"
      ],
      "text/plain": [
       "    time    time_s\n",
       "0  09:18  09:16:00\n",
       "1  09:20  09:20:00\n",
       "2  09:25  09:25:00\n",
       "3  09:41  09:40:00\n",
       "4  09:48  09:49:00\n",
       "5  09:51  09:51:00"
      ]
     },
     "execution_count": 9,
     "metadata": {},
     "output_type": "execute_result"
    }
   ],
   "source": [
    "ud2_sp=sp[(sp['day_s']=='d2') & (sp['class_s']=='u')]\n",
    "ud2_sp=ud2_sp.sort_values(by='time_s')\n",
    "ud2_sp=ud2_sp.reset_index(drop=True)\n",
    "\n",
    "ud2_id=id[(id['day']=='d2') & (id['class']=='u')]\n",
    "ud2_id=ud2_id.sort_values(by='time')\n",
    "ud2_id=ud2_id.reset_index(drop=True)\n",
    "\n",
    "ud2=pd.concat([ud2_sp,ud2_id],axis=1)\n",
    "ud2[['time','time_s']]"
   ]
  },
  {
   "cell_type": "code",
   "execution_count": 10,
   "metadata": {},
   "outputs": [
    {
     "data": {
      "application/vnd.microsoft.datawrangler.viewer.v0+json": {
       "columns": [
        {
         "name": "index",
         "rawType": "int64",
         "type": "integer"
        },
        {
         "name": "time",
         "rawType": "object",
         "type": "unknown"
        },
        {
         "name": "time_s",
         "rawType": "object",
         "type": "string"
        }
       ],
       "conversionMethod": "pd.DataFrame",
       "ref": "c7d67304-26ac-4b0a-b199-358f80de20ee",
       "rows": [
        [
         "0",
         "07:56",
         "07:54:00"
        ],
        [
         "1",
         "08:05",
         "08:04:00"
        ],
        [
         "2",
         "08:12",
         "08:08:00"
        ],
        [
         "3",
         "08:14",
         "08:13:00"
        ],
        [
         "4",
         "18:31",
         "18:30:00"
        ],
        [
         "5",
         "18:37",
         "18:35:00"
        ],
        [
         "6",
         "18:37",
         "18:35:01"
        ],
        [
         "7",
         null,
         "18:35:02"
        ]
       ],
       "shape": {
        "columns": 2,
        "rows": 8
       }
      },
      "text/html": [
       "<div>\n",
       "<style scoped>\n",
       "    .dataframe tbody tr th:only-of-type {\n",
       "        vertical-align: middle;\n",
       "    }\n",
       "\n",
       "    .dataframe tbody tr th {\n",
       "        vertical-align: top;\n",
       "    }\n",
       "\n",
       "    .dataframe thead th {\n",
       "        text-align: right;\n",
       "    }\n",
       "</style>\n",
       "<table border=\"1\" class=\"dataframe\">\n",
       "  <thead>\n",
       "    <tr style=\"text-align: right;\">\n",
       "      <th></th>\n",
       "      <th>time</th>\n",
       "      <th>time_s</th>\n",
       "    </tr>\n",
       "  </thead>\n",
       "  <tbody>\n",
       "    <tr>\n",
       "      <th>0</th>\n",
       "      <td>07:56</td>\n",
       "      <td>07:54:00</td>\n",
       "    </tr>\n",
       "    <tr>\n",
       "      <th>1</th>\n",
       "      <td>08:05</td>\n",
       "      <td>08:04:00</td>\n",
       "    </tr>\n",
       "    <tr>\n",
       "      <th>2</th>\n",
       "      <td>08:12</td>\n",
       "      <td>08:08:00</td>\n",
       "    </tr>\n",
       "    <tr>\n",
       "      <th>3</th>\n",
       "      <td>08:14</td>\n",
       "      <td>08:13:00</td>\n",
       "    </tr>\n",
       "    <tr>\n",
       "      <th>4</th>\n",
       "      <td>18:31</td>\n",
       "      <td>18:30:00</td>\n",
       "    </tr>\n",
       "    <tr>\n",
       "      <th>5</th>\n",
       "      <td>18:37</td>\n",
       "      <td>18:35:00</td>\n",
       "    </tr>\n",
       "    <tr>\n",
       "      <th>6</th>\n",
       "      <td>18:37</td>\n",
       "      <td>18:35:01</td>\n",
       "    </tr>\n",
       "    <tr>\n",
       "      <th>7</th>\n",
       "      <td>NaN</td>\n",
       "      <td>18:35:02</td>\n",
       "    </tr>\n",
       "  </tbody>\n",
       "</table>\n",
       "</div>"
      ],
      "text/plain": [
       "    time    time_s\n",
       "0  07:56  07:54:00\n",
       "1  08:05  08:04:00\n",
       "2  08:12  08:08:00\n",
       "3  08:14  08:13:00\n",
       "4  18:31  18:30:00\n",
       "5  18:37  18:35:00\n",
       "6  18:37  18:35:01\n",
       "7    NaN  18:35:02"
      ]
     },
     "execution_count": 10,
     "metadata": {},
     "output_type": "execute_result"
    }
   ],
   "source": [
    "hd3_sp=sp[(sp['day_s']=='d3') & (sp['class_s']=='h')]\n",
    "hd3_sp=hd3_sp.sort_values(by='time_s')\n",
    "hd3_sp=hd3_sp.reset_index(drop=True)\n",
    "\n",
    "hd3_id=id[(id['day']=='d3') & (id['class']=='h')]\n",
    "hd3_id=hd3_id.sort_values(by='time')\n",
    "hd3_id=hd3_id.reset_index(drop=True)\n",
    "\n",
    "hd3=pd.concat([hd3_sp,hd3_id],axis=1)\n",
    "hd3[['time','time_s']]"
   ]
  },
  {
   "cell_type": "code",
   "execution_count": 11,
   "metadata": {},
   "outputs": [
    {
     "data": {
      "application/vnd.microsoft.datawrangler.viewer.v0+json": {
       "columns": [
        {
         "name": "index",
         "rawType": "int64",
         "type": "integer"
        },
        {
         "name": "time",
         "rawType": "object",
         "type": "string"
        },
        {
         "name": "time_s",
         "rawType": "object",
         "type": "string"
        }
       ],
       "conversionMethod": "pd.DataFrame",
       "ref": "9cbce198-b59a-4fe6-ae0e-b00636d840a3",
       "rows": [
        [
         "0",
         "07:54",
         "07:54:00"
        ],
        [
         "1",
         "07:54",
         "08:04:00"
        ],
        [
         "2",
         "08:05",
         "08:08:00"
        ],
        [
         "3",
         "08:09",
         "08:08:01"
        ],
        [
         "4",
         "08:09",
         "08:08:02"
        ],
        [
         "5",
         "08:13",
         "08:13:00"
        ],
        [
         "6",
         "08:14",
         "08:13:01"
        ],
        [
         "7",
         "08:17",
         "18:30:00"
        ],
        [
         "8",
         "18:31",
         "18:33:00"
        ],
        [
         "9",
         "18:34",
         "18:33:01"
        ],
        [
         "10",
         "18:34",
         "18:33:02"
        ],
        [
         "11",
         "18:35",
         "18:37:00"
        ]
       ],
       "shape": {
        "columns": 2,
        "rows": 12
       }
      },
      "text/html": [
       "<div>\n",
       "<style scoped>\n",
       "    .dataframe tbody tr th:only-of-type {\n",
       "        vertical-align: middle;\n",
       "    }\n",
       "\n",
       "    .dataframe tbody tr th {\n",
       "        vertical-align: top;\n",
       "    }\n",
       "\n",
       "    .dataframe thead th {\n",
       "        text-align: right;\n",
       "    }\n",
       "</style>\n",
       "<table border=\"1\" class=\"dataframe\">\n",
       "  <thead>\n",
       "    <tr style=\"text-align: right;\">\n",
       "      <th></th>\n",
       "      <th>time</th>\n",
       "      <th>time_s</th>\n",
       "    </tr>\n",
       "  </thead>\n",
       "  <tbody>\n",
       "    <tr>\n",
       "      <th>0</th>\n",
       "      <td>07:54</td>\n",
       "      <td>07:54:00</td>\n",
       "    </tr>\n",
       "    <tr>\n",
       "      <th>1</th>\n",
       "      <td>07:54</td>\n",
       "      <td>08:04:00</td>\n",
       "    </tr>\n",
       "    <tr>\n",
       "      <th>2</th>\n",
       "      <td>08:05</td>\n",
       "      <td>08:08:00</td>\n",
       "    </tr>\n",
       "    <tr>\n",
       "      <th>3</th>\n",
       "      <td>08:09</td>\n",
       "      <td>08:08:01</td>\n",
       "    </tr>\n",
       "    <tr>\n",
       "      <th>4</th>\n",
       "      <td>08:09</td>\n",
       "      <td>08:08:02</td>\n",
       "    </tr>\n",
       "    <tr>\n",
       "      <th>5</th>\n",
       "      <td>08:13</td>\n",
       "      <td>08:13:00</td>\n",
       "    </tr>\n",
       "    <tr>\n",
       "      <th>6</th>\n",
       "      <td>08:14</td>\n",
       "      <td>08:13:01</td>\n",
       "    </tr>\n",
       "    <tr>\n",
       "      <th>7</th>\n",
       "      <td>08:17</td>\n",
       "      <td>18:30:00</td>\n",
       "    </tr>\n",
       "    <tr>\n",
       "      <th>8</th>\n",
       "      <td>18:31</td>\n",
       "      <td>18:33:00</td>\n",
       "    </tr>\n",
       "    <tr>\n",
       "      <th>9</th>\n",
       "      <td>18:34</td>\n",
       "      <td>18:33:01</td>\n",
       "    </tr>\n",
       "    <tr>\n",
       "      <th>10</th>\n",
       "      <td>18:34</td>\n",
       "      <td>18:33:02</td>\n",
       "    </tr>\n",
       "    <tr>\n",
       "      <th>11</th>\n",
       "      <td>18:35</td>\n",
       "      <td>18:37:00</td>\n",
       "    </tr>\n",
       "  </tbody>\n",
       "</table>\n",
       "</div>"
      ],
      "text/plain": [
       "     time    time_s\n",
       "0   07:54  07:54:00\n",
       "1   07:54  08:04:00\n",
       "2   08:05  08:08:00\n",
       "3   08:09  08:08:01\n",
       "4   08:09  08:08:02\n",
       "5   08:13  08:13:00\n",
       "6   08:14  08:13:01\n",
       "7   08:17  18:30:00\n",
       "8   18:31  18:33:00\n",
       "9   18:34  18:33:01\n",
       "10  18:34  18:33:02\n",
       "11  18:35  18:37:00"
      ]
     },
     "execution_count": 11,
     "metadata": {},
     "output_type": "execute_result"
    }
   ],
   "source": [
    "ud3_sp=sp[(sp['day_s']=='d3') & (sp['class_s']=='u')]\n",
    "ud3_sp=ud3_sp.sort_values(by='time_s')\n",
    "ud3_sp=ud3_sp.reset_index(drop=True)\n",
    "\n",
    "ud3_id=id[(id['day']=='d3') & (id['class']=='u')]\n",
    "ud3_id=ud3_id.sort_values(by='time')\n",
    "ud3_id=ud3_id.reset_index(drop=True)\n",
    "\n",
    "ud3=pd.concat([ud3_sp,ud3_id],axis=1)\n",
    "ud3[['time','time_s']]"
   ]
  },
  {
   "cell_type": "code",
   "execution_count": 12,
   "metadata": {},
   "outputs": [
    {
     "data": {
      "application/vnd.microsoft.datawrangler.viewer.v0+json": {
       "columns": [
        {
         "name": "index",
         "rawType": "int64",
         "type": "integer"
        },
        {
         "name": "time",
         "rawType": "object",
         "type": "string"
        },
        {
         "name": "time_s",
         "rawType": "object",
         "type": "unknown"
        }
       ],
       "conversionMethod": "pd.DataFrame",
       "ref": "4c7224a3-3704-4810-95fa-cb3d29aa6dcb",
       "rows": [
        [
         "0",
         "08:17",
         "08:16:00"
        ],
        [
         "1",
         "08:17",
         "08:16:01"
        ],
        [
         "2",
         "08:19",
         "08:19:00"
        ],
        [
         "3",
         "08:19",
         "08:25:00"
        ],
        [
         "4",
         "08:20",
         "08:26:00"
        ],
        [
         "5",
         "08:20",
         "08:26:01"
        ],
        [
         "6",
         "08:25",
         "08:29:00"
        ],
        [
         "7",
         "08:25",
         "08:30:00"
        ],
        [
         "8",
         "08:28",
         "08:37:00"
        ],
        [
         "9",
         "08:28",
         "08:40:00"
        ],
        [
         "10",
         "08:29",
         "08:45:00"
        ],
        [
         "11",
         "08:31",
         "08:46:00"
        ],
        [
         "12",
         "08:38",
         "09:08:00"
        ],
        [
         "13",
         "08:41",
         "09:10:00"
        ],
        [
         "14",
         "08:48",
         "09:17:00"
        ],
        [
         "15",
         "09:09",
         "09:50:00"
        ],
        [
         "16",
         "09:12",
         "10:04:00"
        ],
        [
         "17",
         "09:18",
         null
        ],
        [
         "18",
         "09:51",
         null
        ],
        [
         "19",
         "10:05",
         null
        ]
       ],
       "shape": {
        "columns": 2,
        "rows": 20
       }
      },
      "text/html": [
       "<div>\n",
       "<style scoped>\n",
       "    .dataframe tbody tr th:only-of-type {\n",
       "        vertical-align: middle;\n",
       "    }\n",
       "\n",
       "    .dataframe tbody tr th {\n",
       "        vertical-align: top;\n",
       "    }\n",
       "\n",
       "    .dataframe thead th {\n",
       "        text-align: right;\n",
       "    }\n",
       "</style>\n",
       "<table border=\"1\" class=\"dataframe\">\n",
       "  <thead>\n",
       "    <tr style=\"text-align: right;\">\n",
       "      <th></th>\n",
       "      <th>time</th>\n",
       "      <th>time_s</th>\n",
       "    </tr>\n",
       "  </thead>\n",
       "  <tbody>\n",
       "    <tr>\n",
       "      <th>0</th>\n",
       "      <td>08:17</td>\n",
       "      <td>08:16:00</td>\n",
       "    </tr>\n",
       "    <tr>\n",
       "      <th>1</th>\n",
       "      <td>08:17</td>\n",
       "      <td>08:16:01</td>\n",
       "    </tr>\n",
       "    <tr>\n",
       "      <th>2</th>\n",
       "      <td>08:19</td>\n",
       "      <td>08:19:00</td>\n",
       "    </tr>\n",
       "    <tr>\n",
       "      <th>3</th>\n",
       "      <td>08:19</td>\n",
       "      <td>08:25:00</td>\n",
       "    </tr>\n",
       "    <tr>\n",
       "      <th>4</th>\n",
       "      <td>08:20</td>\n",
       "      <td>08:26:00</td>\n",
       "    </tr>\n",
       "    <tr>\n",
       "      <th>5</th>\n",
       "      <td>08:20</td>\n",
       "      <td>08:26:01</td>\n",
       "    </tr>\n",
       "    <tr>\n",
       "      <th>6</th>\n",
       "      <td>08:25</td>\n",
       "      <td>08:29:00</td>\n",
       "    </tr>\n",
       "    <tr>\n",
       "      <th>7</th>\n",
       "      <td>08:25</td>\n",
       "      <td>08:30:00</td>\n",
       "    </tr>\n",
       "    <tr>\n",
       "      <th>8</th>\n",
       "      <td>08:28</td>\n",
       "      <td>08:37:00</td>\n",
       "    </tr>\n",
       "    <tr>\n",
       "      <th>9</th>\n",
       "      <td>08:28</td>\n",
       "      <td>08:40:00</td>\n",
       "    </tr>\n",
       "    <tr>\n",
       "      <th>10</th>\n",
       "      <td>08:29</td>\n",
       "      <td>08:45:00</td>\n",
       "    </tr>\n",
       "    <tr>\n",
       "      <th>11</th>\n",
       "      <td>08:31</td>\n",
       "      <td>08:46:00</td>\n",
       "    </tr>\n",
       "    <tr>\n",
       "      <th>12</th>\n",
       "      <td>08:38</td>\n",
       "      <td>09:08:00</td>\n",
       "    </tr>\n",
       "    <tr>\n",
       "      <th>13</th>\n",
       "      <td>08:41</td>\n",
       "      <td>09:10:00</td>\n",
       "    </tr>\n",
       "    <tr>\n",
       "      <th>14</th>\n",
       "      <td>08:48</td>\n",
       "      <td>09:17:00</td>\n",
       "    </tr>\n",
       "    <tr>\n",
       "      <th>15</th>\n",
       "      <td>09:09</td>\n",
       "      <td>09:50:00</td>\n",
       "    </tr>\n",
       "    <tr>\n",
       "      <th>16</th>\n",
       "      <td>09:12</td>\n",
       "      <td>10:04:00</td>\n",
       "    </tr>\n",
       "    <tr>\n",
       "      <th>17</th>\n",
       "      <td>09:18</td>\n",
       "      <td>NaN</td>\n",
       "    </tr>\n",
       "    <tr>\n",
       "      <th>18</th>\n",
       "      <td>09:51</td>\n",
       "      <td>NaN</td>\n",
       "    </tr>\n",
       "    <tr>\n",
       "      <th>19</th>\n",
       "      <td>10:05</td>\n",
       "      <td>NaN</td>\n",
       "    </tr>\n",
       "  </tbody>\n",
       "</table>\n",
       "</div>"
      ],
      "text/plain": [
       "     time    time_s\n",
       "0   08:17  08:16:00\n",
       "1   08:17  08:16:01\n",
       "2   08:19  08:19:00\n",
       "3   08:19  08:25:00\n",
       "4   08:20  08:26:00\n",
       "5   08:20  08:26:01\n",
       "6   08:25  08:29:00\n",
       "7   08:25  08:30:00\n",
       "8   08:28  08:37:00\n",
       "9   08:28  08:40:00\n",
       "10  08:29  08:45:00\n",
       "11  08:31  08:46:00\n",
       "12  08:38  09:08:00\n",
       "13  08:41  09:10:00\n",
       "14  08:48  09:17:00\n",
       "15  09:09  09:50:00\n",
       "16  09:12  10:04:00\n",
       "17  09:18       NaN\n",
       "18  09:51       NaN\n",
       "19  10:05       NaN"
      ]
     },
     "execution_count": 12,
     "metadata": {},
     "output_type": "execute_result"
    }
   ],
   "source": [
    "hd4_sp=sp[(sp['day_s']=='d4') & (sp['class_s']=='h')]\n",
    "hd4_sp=hd4_sp.sort_values(by='time_s')\n",
    "hd4_sp=hd4_sp.reset_index(drop=True)\n",
    "\n",
    "hd4_id=id[(id['day']=='d4') & (id['class']=='h')]\n",
    "hd4_id=hd4_id.sort_values(by='time')\n",
    "hd4_id=hd4_id.reset_index(drop=True)\n",
    "\n",
    "hd4=pd.concat([hd4_sp,hd4_id],axis=1)\n",
    "hd4[['time','time_s']]"
   ]
  },
  {
   "cell_type": "code",
   "execution_count": 13,
   "metadata": {},
   "outputs": [
    {
     "data": {
      "application/vnd.microsoft.datawrangler.viewer.v0+json": {
       "columns": [
        {
         "name": "index",
         "rawType": "int64",
         "type": "integer"
        },
        {
         "name": "time",
         "rawType": "object",
         "type": "unknown"
        },
        {
         "name": "time_s",
         "rawType": "object",
         "type": "string"
        }
       ],
       "conversionMethod": "pd.DataFrame",
       "ref": "680641d3-6b00-4060-964a-00acb90011b7",
       "rows": [
        [
         "0",
         "08:27",
         "08:16:00"
        ],
        [
         "1",
         "08:27",
         "08:16:01"
        ],
        [
         "2",
         "08:29",
         "08:19:00"
        ],
        [
         "3",
         "08:30",
         "08:25:00"
        ],
        [
         "4",
         "08:40",
         "08:26:00"
        ],
        [
         "5",
         "08:44",
         "08:26:01"
        ],
        [
         "6",
         "08:48",
         "08:29:00"
        ],
        [
         "7",
         "08:54",
         "08:30:00"
        ],
        [
         "8",
         "08:55",
         "08:35:00"
        ],
        [
         "9",
         "08:55",
         "08:40:00"
        ],
        [
         "10",
         "09:09",
         "08:45:00"
        ],
        [
         "11",
         "09:11",
         "08:46:00"
        ],
        [
         "12",
         "09:12",
         "08:53:00"
        ],
        [
         "13",
         "09:17",
         "08:54:00"
        ],
        [
         "14",
         "09:50",
         "08:54:01"
        ],
        [
         "15",
         "10:03",
         "09:08:00"
        ],
        [
         "16",
         "10:04",
         "09:10:00"
        ],
        [
         "17",
         null,
         "09:10:01"
        ],
        [
         "18",
         null,
         "09:17:00"
        ],
        [
         "19",
         null,
         "09:49:00"
        ],
        [
         "20",
         null,
         "10:03:00"
        ],
        [
         "21",
         null,
         "10:04:00"
        ]
       ],
       "shape": {
        "columns": 2,
        "rows": 22
       }
      },
      "text/html": [
       "<div>\n",
       "<style scoped>\n",
       "    .dataframe tbody tr th:only-of-type {\n",
       "        vertical-align: middle;\n",
       "    }\n",
       "\n",
       "    .dataframe tbody tr th {\n",
       "        vertical-align: top;\n",
       "    }\n",
       "\n",
       "    .dataframe thead th {\n",
       "        text-align: right;\n",
       "    }\n",
       "</style>\n",
       "<table border=\"1\" class=\"dataframe\">\n",
       "  <thead>\n",
       "    <tr style=\"text-align: right;\">\n",
       "      <th></th>\n",
       "      <th>time</th>\n",
       "      <th>time_s</th>\n",
       "    </tr>\n",
       "  </thead>\n",
       "  <tbody>\n",
       "    <tr>\n",
       "      <th>0</th>\n",
       "      <td>08:27</td>\n",
       "      <td>08:16:00</td>\n",
       "    </tr>\n",
       "    <tr>\n",
       "      <th>1</th>\n",
       "      <td>08:27</td>\n",
       "      <td>08:16:01</td>\n",
       "    </tr>\n",
       "    <tr>\n",
       "      <th>2</th>\n",
       "      <td>08:29</td>\n",
       "      <td>08:19:00</td>\n",
       "    </tr>\n",
       "    <tr>\n",
       "      <th>3</th>\n",
       "      <td>08:30</td>\n",
       "      <td>08:25:00</td>\n",
       "    </tr>\n",
       "    <tr>\n",
       "      <th>4</th>\n",
       "      <td>08:40</td>\n",
       "      <td>08:26:00</td>\n",
       "    </tr>\n",
       "    <tr>\n",
       "      <th>5</th>\n",
       "      <td>08:44</td>\n",
       "      <td>08:26:01</td>\n",
       "    </tr>\n",
       "    <tr>\n",
       "      <th>6</th>\n",
       "      <td>08:48</td>\n",
       "      <td>08:29:00</td>\n",
       "    </tr>\n",
       "    <tr>\n",
       "      <th>7</th>\n",
       "      <td>08:54</td>\n",
       "      <td>08:30:00</td>\n",
       "    </tr>\n",
       "    <tr>\n",
       "      <th>8</th>\n",
       "      <td>08:55</td>\n",
       "      <td>08:35:00</td>\n",
       "    </tr>\n",
       "    <tr>\n",
       "      <th>9</th>\n",
       "      <td>08:55</td>\n",
       "      <td>08:40:00</td>\n",
       "    </tr>\n",
       "    <tr>\n",
       "      <th>10</th>\n",
       "      <td>09:09</td>\n",
       "      <td>08:45:00</td>\n",
       "    </tr>\n",
       "    <tr>\n",
       "      <th>11</th>\n",
       "      <td>09:11</td>\n",
       "      <td>08:46:00</td>\n",
       "    </tr>\n",
       "    <tr>\n",
       "      <th>12</th>\n",
       "      <td>09:12</td>\n",
       "      <td>08:53:00</td>\n",
       "    </tr>\n",
       "    <tr>\n",
       "      <th>13</th>\n",
       "      <td>09:17</td>\n",
       "      <td>08:54:00</td>\n",
       "    </tr>\n",
       "    <tr>\n",
       "      <th>14</th>\n",
       "      <td>09:50</td>\n",
       "      <td>08:54:01</td>\n",
       "    </tr>\n",
       "    <tr>\n",
       "      <th>15</th>\n",
       "      <td>10:03</td>\n",
       "      <td>09:08:00</td>\n",
       "    </tr>\n",
       "    <tr>\n",
       "      <th>16</th>\n",
       "      <td>10:04</td>\n",
       "      <td>09:10:00</td>\n",
       "    </tr>\n",
       "    <tr>\n",
       "      <th>17</th>\n",
       "      <td>NaN</td>\n",
       "      <td>09:10:01</td>\n",
       "    </tr>\n",
       "    <tr>\n",
       "      <th>18</th>\n",
       "      <td>NaN</td>\n",
       "      <td>09:17:00</td>\n",
       "    </tr>\n",
       "    <tr>\n",
       "      <th>19</th>\n",
       "      <td>NaN</td>\n",
       "      <td>09:49:00</td>\n",
       "    </tr>\n",
       "    <tr>\n",
       "      <th>20</th>\n",
       "      <td>NaN</td>\n",
       "      <td>10:03:00</td>\n",
       "    </tr>\n",
       "    <tr>\n",
       "      <th>21</th>\n",
       "      <td>NaN</td>\n",
       "      <td>10:04:00</td>\n",
       "    </tr>\n",
       "  </tbody>\n",
       "</table>\n",
       "</div>"
      ],
      "text/plain": [
       "     time    time_s\n",
       "0   08:27  08:16:00\n",
       "1   08:27  08:16:01\n",
       "2   08:29  08:19:00\n",
       "3   08:30  08:25:00\n",
       "4   08:40  08:26:00\n",
       "5   08:44  08:26:01\n",
       "6   08:48  08:29:00\n",
       "7   08:54  08:30:00\n",
       "8   08:55  08:35:00\n",
       "9   08:55  08:40:00\n",
       "10  09:09  08:45:00\n",
       "11  09:11  08:46:00\n",
       "12  09:12  08:53:00\n",
       "13  09:17  08:54:00\n",
       "14  09:50  08:54:01\n",
       "15  10:03  09:08:00\n",
       "16  10:04  09:10:00\n",
       "17    NaN  09:10:01\n",
       "18    NaN  09:17:00\n",
       "19    NaN  09:49:00\n",
       "20    NaN  10:03:00\n",
       "21    NaN  10:04:00"
      ]
     },
     "execution_count": 13,
     "metadata": {},
     "output_type": "execute_result"
    }
   ],
   "source": [
    "ud4_sp=sp[(sp['day_s']=='d4') & (sp['class_s']=='u')]\n",
    "ud4_sp=ud4_sp.sort_values(by='time_s')\n",
    "ud4_sp=ud4_sp.reset_index(drop=True)\n",
    "\n",
    "ud4_id=id[(id['day']=='d4') & (id['class']=='u')]\n",
    "ud4_id=ud4_id.sort_values(by='time')\n",
    "ud4_id=ud4_id.reset_index(drop=True)\n",
    "\n",
    "ud4=pd.concat([ud4_sp,ud4_id],axis=1)\n",
    "ud4[['time','time_s']]"
   ]
  },
  {
   "cell_type": "code",
   "execution_count": 14,
   "metadata": {},
   "outputs": [
    {
     "data": {
      "application/vnd.microsoft.datawrangler.viewer.v0+json": {
       "columns": [
        {
         "name": "index",
         "rawType": "int64",
         "type": "integer"
        },
        {
         "name": "time",
         "rawType": "object",
         "type": "string"
        },
        {
         "name": "time_s",
         "rawType": "object",
         "type": "unknown"
        }
       ],
       "conversionMethod": "pd.DataFrame",
       "ref": "5a3fa97d-455b-439f-84ac-046eab54f6ea",
       "rows": [
        [
         "0",
         "13:25",
         "09:16:00"
        ],
        [
         "1",
         "13:26",
         "09:20:00"
        ],
        [
         "2",
         "13:33",
         "09:25:00"
        ],
        [
         "3",
         "13:40",
         "09:40:00"
        ],
        [
         "4",
         "13:42",
         "09:49:00"
        ],
        [
         "5",
         "17:13",
         "09:51:00"
        ],
        [
         "6",
         "17:17",
         null
        ]
       ],
       "shape": {
        "columns": 2,
        "rows": 7
       }
      },
      "text/html": [
       "<div>\n",
       "<style scoped>\n",
       "    .dataframe tbody tr th:only-of-type {\n",
       "        vertical-align: middle;\n",
       "    }\n",
       "\n",
       "    .dataframe tbody tr th {\n",
       "        vertical-align: top;\n",
       "    }\n",
       "\n",
       "    .dataframe thead th {\n",
       "        text-align: right;\n",
       "    }\n",
       "</style>\n",
       "<table border=\"1\" class=\"dataframe\">\n",
       "  <thead>\n",
       "    <tr style=\"text-align: right;\">\n",
       "      <th></th>\n",
       "      <th>time</th>\n",
       "      <th>time_s</th>\n",
       "    </tr>\n",
       "  </thead>\n",
       "  <tbody>\n",
       "    <tr>\n",
       "      <th>0</th>\n",
       "      <td>13:25</td>\n",
       "      <td>09:16:00</td>\n",
       "    </tr>\n",
       "    <tr>\n",
       "      <th>1</th>\n",
       "      <td>13:26</td>\n",
       "      <td>09:20:00</td>\n",
       "    </tr>\n",
       "    <tr>\n",
       "      <th>2</th>\n",
       "      <td>13:33</td>\n",
       "      <td>09:25:00</td>\n",
       "    </tr>\n",
       "    <tr>\n",
       "      <th>3</th>\n",
       "      <td>13:40</td>\n",
       "      <td>09:40:00</td>\n",
       "    </tr>\n",
       "    <tr>\n",
       "      <th>4</th>\n",
       "      <td>13:42</td>\n",
       "      <td>09:49:00</td>\n",
       "    </tr>\n",
       "    <tr>\n",
       "      <th>5</th>\n",
       "      <td>17:13</td>\n",
       "      <td>09:51:00</td>\n",
       "    </tr>\n",
       "    <tr>\n",
       "      <th>6</th>\n",
       "      <td>17:17</td>\n",
       "      <td>NaN</td>\n",
       "    </tr>\n",
       "  </tbody>\n",
       "</table>\n",
       "</div>"
      ],
      "text/plain": [
       "    time    time_s\n",
       "0  13:25  09:16:00\n",
       "1  13:26  09:20:00\n",
       "2  13:33  09:25:00\n",
       "3  13:40  09:40:00\n",
       "4  13:42  09:49:00\n",
       "5  17:13  09:51:00\n",
       "6  17:17       NaN"
      ]
     },
     "execution_count": 14,
     "metadata": {},
     "output_type": "execute_result"
    }
   ],
   "source": [
    "hd5_sp=sp[(sp['day_s']=='d5') & (sp['class_s']=='h')]\n",
    "hd5_sp=hd2_sp.sort_values(by='time_s')\n",
    "hd5_sp=hd2_sp.reset_index(drop=True)\n",
    "\n",
    "hd5_id=id[(id['day']=='d5') & (id['class']=='h')]\n",
    "hd5_id=hd5_id.sort_values(by='time')\n",
    "hd5_id=hd5_id.reset_index(drop=True)\n",
    "\n",
    "hd5=pd.concat([hd5_sp,hd5_id],axis=1)\n",
    "hd5[['time','time_s']]"
   ]
  },
  {
   "cell_type": "code",
   "execution_count": 15,
   "metadata": {},
   "outputs": [
    {
     "data": {
      "application/vnd.microsoft.datawrangler.viewer.v0+json": {
       "columns": [
        {
         "name": "index",
         "rawType": "int64",
         "type": "integer"
        },
        {
         "name": "time",
         "rawType": "object",
         "type": "string"
        },
        {
         "name": "time_s",
         "rawType": "object",
         "type": "string"
        }
       ],
       "conversionMethod": "pd.DataFrame",
       "ref": "b92de9f4-a9a8-4c5d-993f-9f654152c821",
       "rows": [
        [
         "0",
         "13:21",
         "13:20:00"
        ],
        [
         "1",
         "13:23",
         "13:21:00"
        ],
        [
         "2",
         "13:32",
         "13:30:00"
        ],
        [
         "3",
         "13:38",
         "13:38:00"
        ],
        [
         "4",
         "13:40",
         "13:39:00"
        ],
        [
         "5",
         "13:46",
         "13:46:00"
        ],
        [
         "6",
         "17:13",
         "17:12:00"
        ],
        [
         "7",
         "17:17",
         "17:16:00"
        ]
       ],
       "shape": {
        "columns": 2,
        "rows": 8
       }
      },
      "text/html": [
       "<div>\n",
       "<style scoped>\n",
       "    .dataframe tbody tr th:only-of-type {\n",
       "        vertical-align: middle;\n",
       "    }\n",
       "\n",
       "    .dataframe tbody tr th {\n",
       "        vertical-align: top;\n",
       "    }\n",
       "\n",
       "    .dataframe thead th {\n",
       "        text-align: right;\n",
       "    }\n",
       "</style>\n",
       "<table border=\"1\" class=\"dataframe\">\n",
       "  <thead>\n",
       "    <tr style=\"text-align: right;\">\n",
       "      <th></th>\n",
       "      <th>time</th>\n",
       "      <th>time_s</th>\n",
       "    </tr>\n",
       "  </thead>\n",
       "  <tbody>\n",
       "    <tr>\n",
       "      <th>0</th>\n",
       "      <td>13:21</td>\n",
       "      <td>13:20:00</td>\n",
       "    </tr>\n",
       "    <tr>\n",
       "      <th>1</th>\n",
       "      <td>13:23</td>\n",
       "      <td>13:21:00</td>\n",
       "    </tr>\n",
       "    <tr>\n",
       "      <th>2</th>\n",
       "      <td>13:32</td>\n",
       "      <td>13:30:00</td>\n",
       "    </tr>\n",
       "    <tr>\n",
       "      <th>3</th>\n",
       "      <td>13:38</td>\n",
       "      <td>13:38:00</td>\n",
       "    </tr>\n",
       "    <tr>\n",
       "      <th>4</th>\n",
       "      <td>13:40</td>\n",
       "      <td>13:39:00</td>\n",
       "    </tr>\n",
       "    <tr>\n",
       "      <th>5</th>\n",
       "      <td>13:46</td>\n",
       "      <td>13:46:00</td>\n",
       "    </tr>\n",
       "    <tr>\n",
       "      <th>6</th>\n",
       "      <td>17:13</td>\n",
       "      <td>17:12:00</td>\n",
       "    </tr>\n",
       "    <tr>\n",
       "      <th>7</th>\n",
       "      <td>17:17</td>\n",
       "      <td>17:16:00</td>\n",
       "    </tr>\n",
       "  </tbody>\n",
       "</table>\n",
       "</div>"
      ],
      "text/plain": [
       "    time    time_s\n",
       "0  13:21  13:20:00\n",
       "1  13:23  13:21:00\n",
       "2  13:32  13:30:00\n",
       "3  13:38  13:38:00\n",
       "4  13:40  13:39:00\n",
       "5  13:46  13:46:00\n",
       "6  17:13  17:12:00\n",
       "7  17:17  17:16:00"
      ]
     },
     "execution_count": 15,
     "metadata": {},
     "output_type": "execute_result"
    }
   ],
   "source": [
    "ud5_sp=sp[(sp['day_s']=='d5') & (sp['class_s']=='u')]\n",
    "ud5_sp=ud5_sp.sort_values(by='time_s')\n",
    "ud5_sp=ud5_sp.reset_index(drop=True)\n",
    "\n",
    "ud5_id=id[(id['day']=='d5') & (id['class']=='u')]\n",
    "ud5_id=ud5_id.sort_values(by='time')\n",
    "ud5_id=ud5_id.reset_index(drop=True)\n",
    "\n",
    "ud5=pd.concat([ud5_sp,ud5_id],axis=1)\n",
    "ud5[['time','time_s']]"
   ]
  },
  {
   "cell_type": "code",
   "execution_count": 16,
   "metadata": {},
   "outputs": [],
   "source": [
    "df = pd.concat([ud1,hd1,ud2,hd2,ud3,hd3,ud4,hd4,ud5,hd5],axis=0)"
   ]
  },
  {
   "cell_type": "code",
   "execution_count": 17,
   "metadata": {},
   "outputs": [
    {
     "data": {
      "text/plain": [
       "Index(['Unnamed: 0', 'Records', 'day_s', 'time_s', 'class_s', '410', '435',\n",
       "       '460', '485', '510', '535', '560', '585', '610', '645', '680', '705',\n",
       "       '730', '760', '810', '860', '900', '940', 'Unnamed: 0.1', 'Unnamed: 0',\n",
       "       'image_name', 'folder', 'date', 'time', 'day', 'class'],\n",
       "      dtype='object')"
      ]
     },
     "execution_count": 17,
     "metadata": {},
     "output_type": "execute_result"
    }
   ],
   "source": [
    "df=df.dropna(axis=0)\n",
    "df.columns"
   ]
  },
  {
   "cell_type": "code",
   "execution_count": 18,
   "metadata": {},
   "outputs": [],
   "source": [
    "drop_lis=['Unnamed: 0', 'day_s', 'day', 'time', 'time_s', 'Unnamed: 0.1', 'Unnamed: 0', 'date']\n",
    "\n",
    "df=df.drop(drop_lis,axis=1)\n"
   ]
  },
  {
   "cell_type": "code",
   "execution_count": 1,
   "metadata": {},
   "outputs": [],
   "source": [
    "# df.to_csv('plant_spectro_image_processed.csv')\n",
    "import pandas as pd\n",
    "df=pd.read_csv('plant_spectro_image_processed.csv')"
   ]
  },
  {
   "cell_type": "code",
   "execution_count": null,
   "metadata": {},
   "outputs": [],
   "source": []
  }
 ],
 "metadata": {
  "kernelspec": {
   "display_name": ".venv",
   "language": "python",
   "name": "python3"
  },
  "language_info": {
   "codemirror_mode": {
    "name": "ipython",
    "version": 3
   },
   "file_extension": ".py",
   "mimetype": "text/x-python",
   "name": "python",
   "nbconvert_exporter": "python",
   "pygments_lexer": "ipython3",
   "version": "3.12.4"
  }
 },
 "nbformat": 4,
 "nbformat_minor": 2
}
